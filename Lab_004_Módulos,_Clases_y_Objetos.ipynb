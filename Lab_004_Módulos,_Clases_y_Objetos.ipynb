{
  "nbformat": 4,
  "nbformat_minor": 0,
  "metadata": {
    "colab": {
      "provenance": [],
      "authorship_tag": "ABX9TyPwKAG9Eprq10lsFoj+9zdW",
      "include_colab_link": true
    },
    "kernelspec": {
      "name": "python3",
      "display_name": "Python 3"
    },
    "language_info": {
      "name": "python"
    }
  },
  "cells": [
    {
      "cell_type": "markdown",
      "metadata": {
        "id": "view-in-github",
        "colab_type": "text"
      },
      "source": [
        "<a href=\"https://colab.research.google.com/github/juanandres-montero/microeconometria/blob/main/Lab_004_M%C3%B3dulos%2C_Clases_y_Objetos.ipynb\" target=\"_parent\"><img src=\"https://colab.research.google.com/assets/colab-badge.svg\" alt=\"Open In Colab\"/></a>"
      ]
    },
    {
      "cell_type": "markdown",
      "source": [
        "<center>\n",
        "    <img src=\"https://github.com/juanandres-montero/microeconometria/blob/main/logo%20EEC%20grande.png?raw=1\" width=\"396\" height=\"161\"><br>\n",
        "    <b>EC4300 MICROECONOMETRÍA</b><br>\n",
        "    <b>Asist: Juan Andrés Montero Zúñiga</b>\n",
        "<br><br>\n",
        "<b> Laboratorio #4:</b>\n",
        "<br>    \n",
        "<div style=\"font-size:250%;color:white; background-color: #0064b0;\">Introducción a Python</div>\n",
        "<div style=\"font-size:175%;color:white; background-color: #0064b0;\"> Módulos, Clases y Objetos</div>    \n",
        "\n",
        "</center>\n",
        "<br><br>\n",
        "<p style=\"font-size:120%;\">Este cuaderno toma como fuente los cuadernos de Jupyter desarrollados por Phd. Randall Romero. Se toma el\n",
        "    <a href=\"https://colab.research.google.com/github/randall-romero/EC4301/blob/master/Laboratorios/01--Introducci%C3%B3n-a-Python/Python-06--M%C3%B3dulos.ipynb\"> Lab de python 06</a> y el\n",
        "    <a href=\"https://colab.research.google.com/github/randall-romero/EC4301/blob/master/Laboratorios/01--Introducci%C3%B3n-a-Python/Python-07--Clases%20y%20objetos-completo.ipynb\"> Lab de python 07</a>\n",
        "\n",
        "</p>\n",
        "\n",
        "<i> Última actualización del cuaderno original: 2020-Ago-18\n",
        "    <br>\n",
        "    Creado: 2024-Abr-22\n",
        "</i>\n",
        "\n",
        "<hr>"
      ],
      "metadata": {
        "id": "CmScfPFlgSgC"
      }
    },
    {
      "cell_type": "markdown",
      "metadata": {
        "id": "YJfdrA6J25z5"
      },
      "source": [
        "# Importando módulos"
      ]
    },
    {
      "cell_type": "markdown",
      "metadata": {
        "id": "6pslIQYM25z6"
      },
      "source": [
        "* Las definiciones de funciones en Python en uno o más archivos separados para facilitar su manteniniento y para permitir usarlos en varios programas sin copiar las definiciones en cada uno.\n",
        "\n",
        "* Cada archivo que almacena definciones de funciones se llama “módulo” y el nombre del módulo es igual al del archivo pero sin la extensión “.py”.\n",
        "\n",
        "* Las funciones almacenadas en un módulo están disponibles para un programa usando la palabra clave ```import``` seguida del nombre del módulo.\n",
        "\n",
        "* Aunque no es esencial, se acostumbra poner las instrucciones ```import``` al inicio del programa.\n",
        "\n",
        "* Las funciones importadas pueden usarse llamando su nombre como un \"punto-sufijo\" luego del nombre del módulo. Por ejemplo, una función `sqrt` de un módulo importado `numpy` puede llamarse con `numpy.sqrt()`"
      ]
    },
    {
      "cell_type": "markdown",
      "metadata": {
        "id": "-tIBpnAb25z6"
      },
      "source": [
        "## Algunos paquetes (módulos) muy útiles\n",
        "\n",
        "En nuestro curso, los siguientes paquetes (= colecciones de módulos) serán muy útiles\n",
        "* `numpy` Paquete base para arreglos N-dimensional. Operaciones matemáticas, especialmente álgebra lineal\n",
        "* `matplotlib` gráficos 2D\n",
        "* `pandas` estructuras para almacenar y analizar datos\n",
        "* `scipy` librería fundamental para computación científica\n",
        "* `bccr` ofrece funciones para descargar datos del Banco Central de Costa Rica\n",
        "* `macrodemos` contiene demos de conceptos macroeconométricos, por ejemplo los modelos ARMA\n",
        "* `compecon` Para resolver modelos de economía computacional"
      ]
    },
    {
      "cell_type": "markdown",
      "metadata": {
        "id": "v4YbyEPD25z6"
      },
      "source": [
        "### Algunos ejemplos:\n",
        "\n",
        "Para importar `numpy`"
      ]
    },
    {
      "cell_type": "code",
      "execution_count": 1,
      "metadata": {
        "id": "VTd3ICpP25z7",
        "colab": {
          "base_uri": "https://localhost:8080/"
        },
        "outputId": "b0acfedd-1a51-435f-b17c-c38cd9acc2cb"
      },
      "outputs": [
        {
          "output_type": "execute_result",
          "data": {
            "text/plain": [
              "3.0"
            ]
          },
          "metadata": {},
          "execution_count": 1
        }
      ],
      "source": [
        "import numpy\n",
        "numpy.sqrt(9)"
      ]
    },
    {
      "cell_type": "markdown",
      "metadata": {
        "id": "Ss6ZNRvb25z7"
      },
      "source": [
        "Mismo ejemplo, pero dándolo un “alias” al módulo"
      ]
    },
    {
      "cell_type": "code",
      "execution_count": 2,
      "metadata": {
        "id": "7kyJC7K125z8",
        "colab": {
          "base_uri": "https://localhost:8080/"
        },
        "outputId": "f37c6321-b113-4773-aad9-f6c5b0542496"
      },
      "outputs": [
        {
          "output_type": "execute_result",
          "data": {
            "text/plain": [
              "3.0"
            ]
          },
          "metadata": {},
          "execution_count": 2
        }
      ],
      "source": [
        "import numpy as np\n",
        "np.sqrt(9)"
      ]
    },
    {
      "cell_type": "markdown",
      "metadata": {
        "id": "Lc0_x8Bk25z8"
      },
      "source": [
        "Mismo ejemplo, pero importando solo la función `sqrt`"
      ]
    },
    {
      "cell_type": "code",
      "execution_count": 3,
      "metadata": {
        "id": "4YHy4VYy25z8",
        "colab": {
          "base_uri": "https://localhost:8080/"
        },
        "outputId": "e99ffedc-96c1-4598-a755-802eca0f8b6e"
      },
      "outputs": [
        {
          "output_type": "execute_result",
          "data": {
            "text/plain": [
              "3.0"
            ]
          },
          "metadata": {},
          "execution_count": 3
        }
      ],
      "source": [
        "from numpy import sqrt\n",
        "sqrt(9)"
      ]
    },
    {
      "cell_type": "markdown",
      "metadata": {
        "id": "y4sIrz2Z25z8"
      },
      "source": [
        "## ¿Por qué trabajar con módulos?\n",
        "\n",
        "* Una ventaja de organizar el código en módulos y paquetes es evitar desordenar el espacio de nombres.\n",
        "* Los módulos permiten tener funciones del mismo nombre en espacios de nombre separados, obligándonos a ser explícitos acerca de cuál es la que usamos."
      ]
    },
    {
      "cell_type": "markdown",
      "metadata": {
        "id": "yeWv7EXM25z9"
      },
      "source": [
        "Por ejemplo, tanto `math` como `numpy` tienen una función `cos` para computar el coseno, pero su implementación es muy distinta.\n",
        "\n",
        "### Con `numpy`:"
      ]
    },
    {
      "cell_type": "markdown",
      "metadata": {
        "id": "lZXdelPP25z9"
      },
      "source": [
        "$\\pi$"
      ]
    },
    {
      "cell_type": "code",
      "execution_count": 4,
      "metadata": {
        "id": "1rBPASRO25z9"
      },
      "outputs": [],
      "source": [
        "π = np.pi"
      ]
    },
    {
      "cell_type": "code",
      "execution_count": 5,
      "metadata": {
        "id": "58Phdylt25z9",
        "colab": {
          "base_uri": "https://localhost:8080/"
        },
        "outputId": "7cffd5cb-4c40-45b4-ec81-20aedb9df0d3"
      },
      "outputs": [
        {
          "output_type": "execute_result",
          "data": {
            "text/plain": [
              "-1.0"
            ]
          },
          "metadata": {},
          "execution_count": 5
        }
      ],
      "source": [
        "np.cos(π)"
      ]
    },
    {
      "cell_type": "code",
      "execution_count": 6,
      "metadata": {
        "id": "O6-ee4GL25z9",
        "colab": {
          "base_uri": "https://localhost:8080/"
        },
        "outputId": "be50a029-8e51-4698-9ac5-57a866ab2fc8"
      },
      "outputs": [
        {
          "output_type": "stream",
          "name": "stdout",
          "text": [
            "1.0\n",
            "[ 1.          0.54030231 -1.        ]\n"
          ]
        }
      ],
      "source": [
        "import numpy as np\n",
        "print(np.cos(0))\n",
        "print(np.cos([0,1, np.pi]))"
      ]
    },
    {
      "cell_type": "markdown",
      "metadata": {
        "id": "Q68_vMI325z-"
      },
      "source": [
        "### Con `math`:"
      ]
    },
    {
      "cell_type": "code",
      "execution_count": null,
      "metadata": {
        "scrolled": true,
        "id": "jeXX98-Z25z-"
      },
      "outputs": [],
      "source": [
        "import math\n",
        "print(math.cos(0))\n",
        "print(math.cos([0,1, np.pi]))"
      ]
    },
    {
      "cell_type": "markdown",
      "metadata": {
        "id": "5slu8dt025z-"
      },
      "source": [
        "## Iteración más rápida"
      ]
    },
    {
      "cell_type": "code",
      "execution_count": 8,
      "metadata": {
        "inputHidden": false,
        "outputHidden": false,
        "id": "LJ8TMilv25z-"
      },
      "outputs": [],
      "source": [
        "nrep = 12000\n",
        "values = list(range(nrep))"
      ]
    },
    {
      "cell_type": "code",
      "execution_count": 9,
      "metadata": {
        "id": "GW4BeAtT25z-",
        "colab": {
          "base_uri": "https://localhost:8080/"
        },
        "outputId": "21861dd0-189a-4ea7-de58-77292dd6bc32"
      },
      "outputs": [
        {
          "output_type": "stream",
          "name": "stdout",
          "text": [
            "2.89 ms ± 652 µs per loop (mean ± std. dev. of 7 runs, 100 loops each)\n"
          ]
        }
      ],
      "source": [
        "%%timeit\n",
        "option0 = np.empty_like(values)\n",
        "\n",
        "for i, x in enumerate(values):\n",
        "    option0[i] = math.cos(x)"
      ]
    },
    {
      "cell_type": "code",
      "execution_count": 11,
      "metadata": {
        "id": "-vIjbxJq25z_",
        "colab": {
          "base_uri": "https://localhost:8080/"
        },
        "outputId": "ef3f51db-616f-443b-9039-f0a39ae4c40a"
      },
      "outputs": [
        {
          "output_type": "stream",
          "name": "stdout",
          "text": [
            "1.35 ms ± 3.22 µs per loop (mean ± std. dev. of 7 runs, 1000 loops each)\n"
          ]
        }
      ],
      "source": [
        "%%timeit\n",
        "option1 = list()\n",
        "for x in values:\n",
        "    option1.append(math.cos(x))"
      ]
    },
    {
      "cell_type": "code",
      "execution_count": 12,
      "metadata": {
        "id": "15H9ZwOq25z_",
        "colab": {
          "base_uri": "https://localhost:8080/"
        },
        "outputId": "861f14cc-a0b6-44f1-93b9-1ef8bb19dd86"
      },
      "outputs": [
        {
          "output_type": "stream",
          "name": "stdout",
          "text": [
            "1.19 ms ± 106 µs per loop (mean ± std. dev. of 7 runs, 1000 loops each)\n"
          ]
        }
      ],
      "source": [
        "%%timeit\n",
        "option2 = [math.cos(x) for x in values]"
      ]
    },
    {
      "cell_type": "code",
      "execution_count": 10,
      "metadata": {
        "id": "UWUnmL8025z_",
        "colab": {
          "base_uri": "https://localhost:8080/"
        },
        "outputId": "a02a3471-bd09-4cf4-c5fb-d093d8f8d944"
      },
      "outputs": [
        {
          "output_type": "stream",
          "name": "stdout",
          "text": [
            "564 µs ± 3.92 µs per loop (mean ± std. dev. of 7 runs, 1000 loops each)\n"
          ]
        }
      ],
      "source": [
        "%%timeit\n",
        "option3 = np.cos(values)"
      ]
    },
    {
      "cell_type": "code",
      "source": [
        "%%timeit\n",
        "option4 = np.cos(range(0,12000,1))"
      ],
      "metadata": {
        "colab": {
          "base_uri": "https://localhost:8080/"
        },
        "id": "LqnTRlN4aeYh",
        "outputId": "a5406ac9-e607-4d54-b462-0d3ceb3e0e70"
      },
      "execution_count": 25,
      "outputs": [
        {
          "output_type": "stream",
          "name": "stdout",
          "text": [
            "699 µs ± 4.58 µs per loop (mean ± std. dev. of 7 runs, 1000 loops each)\n"
          ]
        }
      ]
    },
    {
      "cell_type": "markdown",
      "metadata": {
        "id": "i5uhdSSW25z_"
      },
      "source": [
        "## Ejemplo de módulo: Trabajando con decimales\n",
        "\n",
        "Los programas de cómputo que ejecutan aritmética con números de punto flotante pueden producir resultados inesperados e imprecisos porque los números de punto flotante no pueden representar adecuadamente todos los número decimales."
      ]
    },
    {
      "cell_type": "code",
      "execution_count": 26,
      "metadata": {
        "id": "WxlYMmzN25z_",
        "colab": {
          "base_uri": "https://localhost:8080/"
        },
        "outputId": "66f4be5e-28d7-4c3d-c6ed-1af401088e08"
      },
      "outputs": [
        {
          "output_type": "stream",
          "name": "stdout",
          "text": [
            "item  = 0.70\n",
            "tax   = 0.73\n",
            "total = 1.44\n"
          ]
        }
      ],
      "source": [
        "item, rate = 0.70, 1.05\n",
        "tax = item * rate\n",
        "total = item + tax\n",
        "txt, val = ['item','tax','total'], [item,tax,total]\n",
        "\n",
        "for tt, vv in zip(txt, val):\n",
        "    print(f'{tt:5s} = {vv:.2f}')"
      ]
    },
    {
      "cell_type": "markdown",
      "metadata": {
        "id": "6hhSw2WP25z_"
      },
      "source": [
        "Con más decimales"
      ]
    },
    {
      "cell_type": "code",
      "execution_count": 27,
      "metadata": {
        "scrolled": true,
        "id": "ctcOobt625z_",
        "colab": {
          "base_uri": "https://localhost:8080/"
        },
        "outputId": "23652918-3235-4e49-f39c-5a6ad3877cfb"
      },
      "outputs": [
        {
          "output_type": "stream",
          "name": "stdout",
          "text": [
            "item     = 0.69999999999999995559\n",
            "tax      = 0.73499999999999998668\n",
            "total    = 1.43500000000000005329\n"
          ]
        }
      ],
      "source": [
        "for tt, vv in zip(txt, val):\n",
        "    print(f'{tt:8s} = {vv:.20f}')"
      ]
    },
    {
      "cell_type": "markdown",
      "metadata": {
        "id": "yfh7xtdK250A"
      },
      "source": [
        "Los errores de la aritmética de punto flotante pueden evitarse usando el módulo de Python `decimal`. Este módulo contiene un objeto `Decimal()` con el cual los números de punto flotante pueden representarse con más precisión."
      ]
    },
    {
      "cell_type": "code",
      "execution_count": 28,
      "metadata": {
        "id": "XZa5q6Lx250A",
        "colab": {
          "base_uri": "https://localhost:8080/"
        },
        "outputId": "041581fd-9acb-423c-fe38-5c2b28af6432"
      },
      "outputs": [
        {
          "output_type": "stream",
          "name": "stdout",
          "text": [
            "item  = 0.70\n",
            "tax   = 0.74\n",
            "total = 1.44\n"
          ]
        }
      ],
      "source": [
        "from decimal import Decimal\n",
        "item, rate = Decimal('0.70'), Decimal('1.05')\n",
        "tax = item * rate\n",
        "total = item + tax\n",
        "\n",
        "txt, val = ['item','tax','total'], [item,tax,total]\n",
        "\n",
        "for tt, vv in zip(txt, val):\n",
        "    print(f'{tt:5s} = {vv:.2f}')"
      ]
    },
    {
      "cell_type": "markdown",
      "metadata": {
        "id": "KipXJEbV250A"
      },
      "source": [
        "With more decimals"
      ]
    },
    {
      "cell_type": "code",
      "execution_count": 29,
      "metadata": {
        "id": "onDb-VwS250A",
        "colab": {
          "base_uri": "https://localhost:8080/"
        },
        "outputId": "f55c0bb1-062f-44c3-824e-c5085cb2c649"
      },
      "outputs": [
        {
          "output_type": "stream",
          "name": "stdout",
          "text": [
            "item  = 0.70000000000000000000\n",
            "tax   = 0.73500000000000000000\n",
            "total = 1.43500000000000000000\n"
          ]
        }
      ],
      "source": [
        "for tt, vv in zip(txt, val):\n",
        "    print(f'{tt:5s} = {vv:.20f}')"
      ]
    },
    {
      "cell_type": "markdown",
      "metadata": {
        "id": "7ZpQjqdF250A"
      },
      "source": [
        "# Creando un módulo\n",
        "\n",
        "Los módulo son muy convenientes para almacenar funciones relacionadas en un solo archivo, de manera que podamos mantener el orden en nuestro proyecto y además reutilizar esas funciones en distintos lugares."
      ]
    },
    {
      "cell_type": "markdown",
      "metadata": {
        "id": "eT6QzeWR250A"
      },
      "source": [
        "Por ejemplo, archivo **formato.py** que está en la misma carpeta que este cuaderno de Jupyter contiene una función llamada `set_css_style`, con la cual controlamos parte del formato de este cuaderno."
      ]
    },
    {
      "cell_type": "code",
      "source": [
        "!wget https://raw.githubusercontent.com/randall-romero/EC4301/master/Laboratorios/01--Introducci%C3%B3n-a-Python/formato.py"
      ],
      "metadata": {
        "id": "aEsOagC4ccy7"
      },
      "execution_count": null,
      "outputs": []
    },
    {
      "cell_type": "code",
      "execution_count": 32,
      "metadata": {
        "id": "hXqLxNE-250A"
      },
      "outputs": [],
      "source": [
        "from formato import set_css_style"
      ]
    },
    {
      "cell_type": "markdown",
      "metadata": {
        "id": "sFizMnUa250B"
      },
      "source": [
        "Para crear un módulo, simplemente almacenamos una o más definiciones (de funciones, variables, clases) en un archivo con extensión **.py**. Si el archivo está en la misma carpeta que el archivo de Python en ejecución, lo podemos importar directamente."
      ]
    },
    {
      "cell_type": "markdown",
      "metadata": {
        "id": "i1HspeTh2vUy"
      },
      "source": [
        "# Diseñando una clase"
      ]
    },
    {
      "cell_type": "markdown",
      "metadata": {
        "id": "XIGm_XIL2vUz"
      },
      "source": [
        "* Una **clases** es una *plantilla* que describe las propiedades que caracterizan a un **objeto**. Cada clases contiene datos (**miembros**) y funciones (**métodos**) que operan sobre los objetos.\n",
        "* Para referirnos a los miembros y métodos de una clase utilizamos la *notación punto*: escribimos el nombre del objeto seguido de un punto y del miembro o método deseado."
      ]
    },
    {
      "cell_type": "markdown",
      "metadata": {
        "id": "iXLJXf4J2vUz"
      },
      "source": [
        "## Ejemplo de clase: una cuenta bancaria\n",
        "\n"
      ]
    },
    {
      "cell_type": "markdown",
      "metadata": {
        "id": "pjLG8zUA2vU0"
      },
      "source": [
        "En este ejemplo creamos una clase para representar una **cuenta** bancaria.\n",
        "\n",
        "Los **miembros** que debe guardar un objeto de esta clase son:\n",
        "* `cliente`\n",
        "* `saldo`\n",
        "* `número`\n",
        "* `fecha_apertura`\n",
        "\n",
        "Los **métodos** que debe ejecutar la cuenta son\n",
        "* `depositar()`\n",
        "* `retirar()`\n",
        "* `transferir()`\n",
        "\n",
        "Además, debemos implementar estos métodos:\n",
        "* `__init__()`  cómo se abre una cuenta\n",
        "* `__repr__()`  cómo se imprime una cuenta\n",
        "\n",
        "Finalmente, el método **transferir** debe verificar que la cuenta de destino exista."
      ]
    },
    {
      "cell_type": "code",
      "execution_count": 33,
      "metadata": {
        "id": "DzHjG9u22vU0"
      },
      "outputs": [],
      "source": [
        "from datetime import datetime"
      ]
    },
    {
      "cell_type": "code",
      "execution_count": 34,
      "metadata": {
        "id": "zbPkMGaW2vU1",
        "colab": {
          "base_uri": "https://localhost:8080/"
        },
        "outputId": "6fc2a05e-529b-4acb-b001-792e88b596d6"
      },
      "outputs": [
        {
          "output_type": "stream",
          "name": "stdout",
          "text": [
            "Se ha abierto la cuenta UCR-0001 a nombre de Rodrigo el 2024-04-23 05:46:35.337552\n",
            "Se ha abierto la cuenta UCR-0002 a nombre de Pedro el 2024-04-23 05:46:35.337665\n"
          ]
        },
        {
          "output_type": "execute_result",
          "data": {
            "text/plain": [
              "{'UCR-0001': Cuenta UCR-0001, cliente Rodrigo, saldo = 0.0,\n",
              " 'UCR-0002': Cuenta UCR-0002, cliente Pedro, saldo = 0.0}"
            ]
          },
          "metadata": {},
          "execution_count": 34
        }
      ],
      "source": [
        "class cuenta:\n",
        "    total_abiertas = 0\n",
        "    existentes = dict()\n",
        "\n",
        "    def __init__(self, cliente):\n",
        "        cuenta.total_abiertas += 1\n",
        "        self.cliente = cliente    # nombre del dueño de la cuenta\n",
        "        self.saldo = 0.0          # saldo inicial\n",
        "        self.número = f\"UCR-{cuenta.total_abiertas:04d}\"\n",
        "        self.fecha_apertura = datetime.now()\n",
        "        cuenta.existentes[self.número] = self\n",
        "        print(f\"Se ha abierto la cuenta {self.número} a nombre de {self.cliente} el {self.fecha_apertura}\")\n",
        "\n",
        "    def __repr__(self):\n",
        "        return f\"Cuenta {self.número}, cliente {self.cliente}, saldo = {self.saldo}\"\n",
        "\n",
        "    def depositar(self, monto):\n",
        "        if monto < 0:\n",
        "            print(\"ERROR:  El monto no debe ser negativo\")\n",
        "        else:\n",
        "            self.saldo += monto\n",
        "            print(f\"Se depositó {monto:.2f} en la cuenta {self.número}. Nuevo saldo = {self.saldo:.2f}\")\n",
        "\n",
        "    def retirar(self, monto):\n",
        "        if monto < 0:\n",
        "            print(\"ERROR:  El monto no debe ser negativo\")\n",
        "        elif monto > self.saldo:\n",
        "            print(\"ERROR: Fondos insuficientes\")\n",
        "        else:\n",
        "            self.saldo -= monto\n",
        "            print(f\"Se retiró {monto:.2f} de la cuenta {self.número}. Nuevo saldo = {self.saldo:.2f}\")\n",
        "\n",
        "\n",
        "    def transferir(self, monto, otra_cuenta):\n",
        "        if monto < 0:\n",
        "            print(\"ERROR:  El monto no debe ser negativo\")\n",
        "        elif monto > self.saldo:\n",
        "            print(\"ERROR: Fondos insuficientes\")\n",
        "        elif otra_cuenta not in cuenta.existentes:\n",
        "            print(\"ERROR: Cuenta destino no existe\")\n",
        "        else:\n",
        "            self.saldo -= monto\n",
        "            cuenta.existentes[otra_cuenta].saldo += monto\n",
        "            print(f\"Se transfirió {monto:.2f} de la cuenta {self.número} a la cuenta {otra_cuenta}\")\n",
        "\n",
        "\n",
        "cc1 = cuenta(\"Rodrigo\")\n",
        "cc2 = cuenta(\"Pedro\")\n",
        "cuenta.existentes"
      ]
    },
    {
      "cell_type": "code",
      "execution_count": 38,
      "metadata": {
        "id": "WjoyoEm92vU1",
        "colab": {
          "base_uri": "https://localhost:8080/"
        },
        "outputId": "49a7f7a8-d683-4d38-8c78-f6cd9e3c9d3d"
      },
      "outputs": [
        {
          "output_type": "stream",
          "name": "stdout",
          "text": [
            "Se depositó 500.00 en la cuenta UCR-0001. Nuevo saldo = 500.00\n",
            "Se retiró 200.00 de la cuenta UCR-0001. Nuevo saldo = 300.00\n",
            "Se transfirió 100.00 de la cuenta UCR-0001 a la cuenta UCR-0002\n"
          ]
        },
        {
          "output_type": "execute_result",
          "data": {
            "text/plain": [
              "{'UCR-0001': Cuenta UCR-0001, cliente Rodrigo, saldo = 200.0,\n",
              " 'UCR-0002': Cuenta UCR-0002, cliente Pedro, saldo = 100.0}"
            ]
          },
          "metadata": {},
          "execution_count": 38
        }
      ],
      "source": [
        "cc1.depositar(500)\n",
        "cc1.retirar(200)\n",
        "cc1.transferir(100, 'UCR-0002')\n",
        "cuenta.existentes"
      ]
    }
  ]
}