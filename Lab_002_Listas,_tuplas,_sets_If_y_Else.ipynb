{
  "nbformat": 4,
  "nbformat_minor": 0,
  "metadata": {
    "colab": {
      "provenance": [],
      "authorship_tag": "ABX9TyNUJ0eh5tBFL4UOq2W6oqvF",
      "include_colab_link": true
    },
    "kernelspec": {
      "name": "python3",
      "display_name": "Python 3"
    },
    "language_info": {
      "name": "python"
    }
  },
  "cells": [
    {
      "cell_type": "markdown",
      "metadata": {
        "id": "view-in-github",
        "colab_type": "text"
      },
      "source": [
        "<a href=\"https://colab.research.google.com/github/juanandres-montero/microeconometria/blob/main/Lab_002_Listas%2C_tuplas%2C_sets_If_y_Else.ipynb\" target=\"_parent\"><img src=\"https://colab.research.google.com/assets/colab-badge.svg\" alt=\"Open In Colab\"/></a>"
      ]
    },
    {
      "cell_type": "markdown",
      "source": [
        "<center>\n",
        "    <img src=\"logo EEC grande.png\" width=\"396\" height=\"161\"><br>\n",
        "    <b>EC4300 MICROECONOMETRÍA</b><br>\n",
        "    <b>Asist: Juan Andrés Montero Zúñiga</b>\n",
        "<br><br>\n",
        "<b> Laboratorio #2:</b>\n",
        "<br>    \n",
        "<div style=\"font-size:250%;color:white; background-color: #0064b0;\">Introducción a Python</div>\n",
        "<div style=\"font-size:175%;color:white; background-color: #0064b0;\"> Listas, Tuplas, Sets. If y Else</div>    \n",
        "\n",
        "</center>\n",
        "<br><br>\n",
        "<p style=\"font-size:120%;\">Este cuaderno toma como fuente los cuadernos de Jupyter desarrollados por Phd. Randall Romero. Se toma el\n",
        "    <a href=\"https://colab.research.google.com/github/randall-romero/EC4301/blob/master/Laboratorios/01--Introducci%C3%B3n-a-Python/Python-03--Colecciones.ipynb\"> Lab de python 03</a>\n",
        "    y también\n",
        "    <a href=\"https://colab.research.google.com/github/randall-romero/EC4301/blob/master/Laboratorios/01--Introducci%C3%B3n-a-Python/Python-04--Control%20de%20ejecuci%C3%B3n.ipynb\"> Lab de python 04  </a>\n",
        "\n",
        "\n",
        "</p>\n",
        "\n",
        "<i> Última actualización del cuaderno original: 2020-Ago-18\n",
        "    <br>\n",
        "    Creado: 2024-Abr-08\n",
        "</i>\n",
        "\n",
        "<hr>"
      ],
      "metadata": {
        "id": "CmScfPFlgSgC"
      }
    },
    {
      "cell_type": "markdown",
      "source": [
        "## Tipos de colecciones\n",
        "Los tipos de colecciones más utilizados son\n",
        "* `list` una lista ordenada y mutable de valores\n",
        "* `tuple` una lista ordenada e inmutable de valores\n",
        "* `set` una lista mutable pero no ordenada de valores\n",
        "* `dict` un diccionario no ordenado"
      ],
      "metadata": {
        "id": "AuV_YT8WlEgM"
      }
    },
    {
      "cell_type": "markdown",
      "source": [
        "# Listas\n"
      ],
      "metadata": {
        "id": "Ok-cioP_lM0V"
      }
    },
    {
      "cell_type": "markdown",
      "source": [
        "## Haciendo listas\n",
        "Para hacer una lista, enumeramos sus elemento entre un par de ```[ ]```"
      ],
      "metadata": {
        "id": "lszV73gRlX52"
      }
    },
    {
      "cell_type": "code",
      "execution_count": null,
      "metadata": {
        "colab": {
          "base_uri": "https://localhost:8080/"
        },
        "id": "1FPMibFagRcn",
        "outputId": "f14a093a-5c44-4f07-81ad-e1b5240da203"
      },
      "outputs": [
        {
          "output_type": "execute_result",
          "data": {
            "text/plain": [
              "['Spring', 'Summer', 'Autumn', 'Winter']"
            ]
          },
          "metadata": {},
          "execution_count": 21
        }
      ],
      "source": [
        "seasons = ['Spring', 'Summer','Autumn','Winter']\n",
        "seasons"
      ]
    },
    {
      "cell_type": "markdown",
      "source": [
        "### Para obtener los datos:"
      ],
      "metadata": {
        "id": "bBcQQ8pEllJY"
      }
    },
    {
      "cell_type": "code",
      "source": [
        "seasons[-3]"
      ],
      "metadata": {
        "colab": {
          "base_uri": "https://localhost:8080/",
          "height": 35
        },
        "id": "aNgOAecSlp0P",
        "outputId": "e2055a30-49d9-4437-91c9-33ed49c188a0"
      },
      "execution_count": null,
      "outputs": [
        {
          "output_type": "execute_result",
          "data": {
            "text/plain": [
              "'Summer'"
            ],
            "application/vnd.google.colaboratory.intrinsic+json": {
              "type": "string"
            }
          },
          "metadata": {},
          "execution_count": 22
        }
      ]
    },
    {
      "cell_type": "markdown",
      "source": [
        "### Para modificar los datos:"
      ],
      "metadata": {
        "id": "caeJ2ZyFl23D"
      }
    },
    {
      "cell_type": "markdown",
      "source": [
        "## Manipulando listas"
      ],
      "metadata": {
        "id": "XY-Ta7sJmQLJ"
      }
    },
    {
      "cell_type": "markdown",
      "source": [
        "##### ```list.append(x)``` Agrega el elemento ```x``` al final de la lista"
      ],
      "metadata": {
        "id": "1fkfS9YnmUxz"
      }
    },
    {
      "cell_type": "code",
      "source": [
        "seasons[2] = 'Fall'\n",
        "seasons"
      ],
      "metadata": {
        "colab": {
          "base_uri": "https://localhost:8080/"
        },
        "id": "l1ZROQ3Ql2af",
        "outputId": "dbcfb27e-7d3f-4e67-ff44-c3b0eb449fd1"
      },
      "execution_count": null,
      "outputs": [
        {
          "output_type": "execute_result",
          "data": {
            "text/plain": [
              "['Spring', 'Summer', 'Fall', 'Winter']"
            ]
          },
          "metadata": {},
          "execution_count": 23
        }
      ]
    },
    {
      "cell_type": "code",
      "source": [
        "seasons.append('Invierno')"
      ],
      "metadata": {
        "id": "aCctqsScmLzC"
      },
      "execution_count": null,
      "outputs": []
    },
    {
      "cell_type": "markdown",
      "metadata": {
        "id": "p0BpkFihkMCK"
      },
      "source": [
        "##### ```list.insert(i,x)``` Inserta el elemento ```x``` en la posición de índice ```i```"
      ]
    },
    {
      "cell_type": "code",
      "execution_count": null,
      "metadata": {
        "id": "s5ITd4FCkMCK",
        "colab": {
          "base_uri": "https://localhost:8080/"
        },
        "outputId": "50e05d14-aa31-4e9e-935e-4cecba3f6403"
      },
      "outputs": [
        {
          "output_type": "execute_result",
          "data": {
            "text/plain": [
              "['Spring', 'Summer', 'Otoño', 'Fall', 'Winter', 'Invierno']"
            ]
          },
          "metadata": {},
          "execution_count": 25
        }
      ],
      "source": [
        "seasons.insert(2,'Otoño')\n",
        "seasons"
      ]
    },
    {
      "cell_type": "markdown",
      "metadata": {
        "id": "LSaGUpookMCL"
      },
      "source": [
        "##### ```list.remove(x)``` Elimina el primer elemento ```x``` de la lista"
      ]
    },
    {
      "cell_type": "code",
      "execution_count": null,
      "metadata": {
        "id": "xNgWscZtkMCL",
        "colab": {
          "base_uri": "https://localhost:8080/"
        },
        "outputId": "5ac36e7a-b256-4fc8-c59f-dd4a135f6c5c"
      },
      "outputs": [
        {
          "output_type": "execute_result",
          "data": {
            "text/plain": [
              "['Spring', 'Summer', 'Otoño', 'Fall', 'Invierno']"
            ]
          },
          "metadata": {},
          "execution_count": 26
        }
      ],
      "source": [
        "seasons.remove('Winter')\n",
        "seasons"
      ]
    },
    {
      "cell_type": "markdown",
      "metadata": {
        "id": "LfDsAAHUkMCM"
      },
      "source": [
        "##### ```list.pop(i)``` Eliminina el elemento en la posición ```i``` y lo retorna"
      ]
    },
    {
      "cell_type": "code",
      "execution_count": null,
      "metadata": {
        "id": "T4PTtagBkMCM",
        "colab": {
          "base_uri": "https://localhost:8080/"
        },
        "outputId": "2f221f74-9c5d-4ed5-c005-c6b8963f7fe0"
      },
      "outputs": [
        {
          "output_type": "execute_result",
          "data": {
            "text/plain": [
              "['Spring', 'Summer', 'Otoño', 'Invierno']"
            ]
          },
          "metadata": {},
          "execution_count": 27
        }
      ],
      "source": [
        "seasons.pop(3)\n",
        "seasons"
      ]
    },
    {
      "cell_type": "markdown",
      "metadata": {
        "id": "DCuBKwIAkMCP"
      },
      "source": [
        "# Tuplas\n",
        "\n",
        "Una tupla es similar a una lista, pero una vez que se define **sus elementos no pueden cambiarse**. Se define enumerando sus elementos entre un par de  ```( )```"
      ]
    },
    {
      "cell_type": "code",
      "execution_count": null,
      "metadata": {
        "id": "HSmpC8shkMCP"
      },
      "outputs": [],
      "source": [
        "seasons = ('Spring', 'Summer','Autumn','Winter')"
      ]
    },
    {
      "cell_type": "markdown",
      "metadata": {
        "id": "4lkmA2sZkMCR"
      },
      "source": [
        "Para obtener datos:"
      ]
    },
    {
      "cell_type": "code",
      "execution_count": null,
      "metadata": {
        "id": "2TxKG2M0kMCR",
        "colab": {
          "base_uri": "https://localhost:8080/",
          "height": 35
        },
        "outputId": "89091ee1-8ce2-4349-8df8-187d51f53cfd"
      },
      "outputs": [
        {
          "output_type": "execute_result",
          "data": {
            "text/plain": [
              "'Autumn'"
            ],
            "application/vnd.google.colaboratory.intrinsic+json": {
              "type": "string"
            }
          },
          "metadata": {},
          "execution_count": 29
        }
      ],
      "source": [
        "seasons[2]"
      ]
    },
    {
      "cell_type": "code",
      "execution_count": null,
      "metadata": {
        "id": "etK9Er_mkMCR",
        "colab": {
          "base_uri": "https://localhost:8080/",
          "height": 35
        },
        "outputId": "4270a358-a79e-4cea-d25f-72078ddfc434"
      },
      "outputs": [
        {
          "output_type": "execute_result",
          "data": {
            "text/plain": [
              "'Summer'"
            ],
            "application/vnd.google.colaboratory.intrinsic+json": {
              "type": "string"
            }
          },
          "metadata": {},
          "execution_count": 30
        }
      ],
      "source": [
        "seasons[-3]"
      ]
    },
    {
      "cell_type": "markdown",
      "metadata": {
        "id": "zKksr1b1kMCS"
      },
      "source": [
        "Sin embargo, los datos no se pueden modificar"
      ]
    },
    {
      "cell_type": "code",
      "execution_count": null,
      "metadata": {
        "scrolled": true,
        "id": "-FSiqPX1kMCS",
        "colab": {
          "base_uri": "https://localhost:8080/",
          "height": 141
        },
        "outputId": "77871bd9-7421-4989-a850-a06054eefe84"
      },
      "outputs": [
        {
          "output_type": "error",
          "ename": "TypeError",
          "evalue": "'tuple' object does not support item assignment",
          "traceback": [
            "\u001b[0;31m---------------------------------------------------------------------------\u001b[0m",
            "\u001b[0;31mTypeError\u001b[0m                                 Traceback (most recent call last)",
            "\u001b[0;32m<ipython-input-31-3a773b804719>\u001b[0m in \u001b[0;36m<cell line: 1>\u001b[0;34m()\u001b[0m\n\u001b[0;32m----> 1\u001b[0;31m \u001b[0mseasons\u001b[0m\u001b[0;34m[\u001b[0m\u001b[0;36m2\u001b[0m\u001b[0;34m]\u001b[0m \u001b[0;34m=\u001b[0m \u001b[0;34m'Fall'\u001b[0m\u001b[0;34m\u001b[0m\u001b[0;34m\u001b[0m\u001b[0m\n\u001b[0m",
            "\u001b[0;31mTypeError\u001b[0m: 'tuple' object does not support item assignment"
          ]
        }
      ],
      "source": [
        "seasons[2] = 'Fall'"
      ]
    },
    {
      "cell_type": "markdown",
      "metadata": {
        "id": "pVQUr_23kMCS"
      },
      "source": [
        "Las tuplas también entienden de franjas"
      ]
    },
    {
      "cell_type": "code",
      "execution_count": null,
      "metadata": {
        "id": "KSourynqkMCS"
      },
      "outputs": [],
      "source": [
        "M = ('Jan', 'Feb', 'Mar', 'Apr', 'May', 'Jun', \\\n",
        "'Jul','Aug','Sep','Oct','Nov','Dec')"
      ]
    },
    {
      "cell_type": "code",
      "execution_count": null,
      "metadata": {
        "id": "7yj5u6kikMCT",
        "colab": {
          "base_uri": "https://localhost:8080/"
        },
        "outputId": "fa060a95-3ab3-4f0d-b070-1e6c076d98df"
      },
      "outputs": [
        {
          "output_type": "execute_result",
          "data": {
            "text/plain": [
              "('Apr', 'May', 'Jun')"
            ]
          },
          "metadata": {},
          "execution_count": 33
        }
      ],
      "source": [
        "# To split the months into quarters:\n",
        "Q1, Q2, Q3, Q4 = M[:3], M[3:6], M[6:9], M[9:]\n",
        "Q2"
      ]
    },
    {
      "cell_type": "code",
      "execution_count": null,
      "metadata": {
        "id": "1no1WI6XkMCT",
        "colab": {
          "base_uri": "https://localhost:8080/"
        },
        "outputId": "7bed30e2-5660-4e41-f146-2de570060719"
      },
      "outputs": [
        {
          "output_type": "execute_result",
          "data": {
            "text/plain": [
              "('Jan',\n",
              " 'Feb',\n",
              " 'Mar',\n",
              " 'Apr',\n",
              " 'May',\n",
              " 'Jun',\n",
              " 'Jul',\n",
              " 'Aug',\n",
              " 'Sep',\n",
              " 'Oct',\n",
              " 'Nov',\n",
              " 'Dec')"
            ]
          },
          "metadata": {},
          "execution_count": 34
        }
      ],
      "source": [
        "M"
      ]
    },
    {
      "cell_type": "markdown",
      "metadata": {
        "id": "laGZdPNFkMCU"
      },
      "source": [
        "# Conjuntos\n",
        "Para hacer un conjunto, enumeramos sus elementos entre ```{ }```. Alternativamento, transformamos una lista en un conjunto usando la función ```set```."
      ]
    },
    {
      "cell_type": "code",
      "execution_count": null,
      "metadata": {
        "id": "muzNftXakMCU"
      },
      "outputs": [],
      "source": [
        "M2 = {2, 4, 6, 8, 10, 12, 14}\n",
        "M3 = set([3, 6, 9, 12, 15])"
      ]
    },
    {
      "cell_type": "markdown",
      "metadata": {
        "id": "wbIZsPWokMCV"
      },
      "source": [
        "##### ```set.add(x)``` Agrega un elemento ```x``` al conjunto"
      ]
    },
    {
      "cell_type": "code",
      "execution_count": null,
      "metadata": {
        "id": "aFxmEqf0kMCV",
        "colab": {
          "base_uri": "https://localhost:8080/"
        },
        "outputId": "44de0e08-9bc4-4ecb-cb94-0d91051a47ef"
      },
      "outputs": [
        {
          "output_type": "execute_result",
          "data": {
            "text/plain": [
              "{2, 4, 6, 8, 10, 12, 14, 16}"
            ]
          },
          "metadata": {},
          "execution_count": 36
        }
      ],
      "source": [
        "M2.add(16)\n",
        "M2"
      ]
    },
    {
      "cell_type": "markdown",
      "metadata": {
        "id": "jhyYb9nGkMCV"
      },
      "source": [
        "##### ```set.update([x,y,z])``` Agrega varios elementos al conjunto"
      ]
    },
    {
      "cell_type": "code",
      "execution_count": null,
      "metadata": {
        "id": "n63ALhwCkMCV",
        "colab": {
          "base_uri": "https://localhost:8080/"
        },
        "outputId": "cb36c25a-cd53-4853-ee42-a134616ad33d"
      },
      "outputs": [
        {
          "output_type": "execute_result",
          "data": {
            "text/plain": [
              "{3, 6, 9, 12, 15, 18, 21}"
            ]
          },
          "metadata": {},
          "execution_count": 37
        }
      ],
      "source": [
        "M3.update([18, 21])\n",
        "M3"
      ]
    },
    {
      "cell_type": "markdown",
      "metadata": {
        "id": "SCqjhjaAkMCW"
      },
      "source": [
        "##### ```set.copy()``` Retorna una copia del conjunto"
      ]
    },
    {
      "cell_type": "code",
      "execution_count": null,
      "metadata": {
        "id": "XAciS_IckMCW",
        "colab": {
          "base_uri": "https://localhost:8080/"
        },
        "outputId": "bc2ccb3c-b414-47e9-d632-f6790ad8229a"
      },
      "outputs": [
        {
          "output_type": "execute_result",
          "data": {
            "text/plain": [
              "{2, 4, 6, 8, 10, 12, 14, 16}"
            ]
          },
          "metadata": {},
          "execution_count": 38
        }
      ],
      "source": [
        "M2c = M2.copy()\n",
        "M2c"
      ]
    },
    {
      "cell_type": "markdown",
      "metadata": {
        "id": "w2PNQgFSkMCW"
      },
      "source": [
        "##### ```set.pop()``` Elimina al azar un elemento del conjunto"
      ]
    },
    {
      "cell_type": "code",
      "execution_count": null,
      "metadata": {
        "id": "FPEL3uTEkMCW",
        "colab": {
          "base_uri": "https://localhost:8080/"
        },
        "outputId": "db9adc2b-2f49-4b88-f294-7480bb1b26ea"
      },
      "outputs": [
        {
          "output_type": "execute_result",
          "data": {
            "text/plain": [
              "2"
            ]
          },
          "metadata": {},
          "execution_count": 39
        }
      ],
      "source": [
        "M2c.pop()"
      ]
    },
    {
      "cell_type": "code",
      "execution_count": null,
      "metadata": {
        "id": "o-r5PufTkMCX",
        "colab": {
          "base_uri": "https://localhost:8080/"
        },
        "outputId": "536dd949-0028-416c-d795-7adfa33fddf8"
      },
      "outputs": [
        {
          "output_type": "execute_result",
          "data": {
            "text/plain": [
              "{4, 6, 8, 10, 12, 14, 16}"
            ]
          },
          "metadata": {},
          "execution_count": 40
        }
      ],
      "source": [
        "M2c"
      ]
    },
    {
      "cell_type": "markdown",
      "metadata": {
        "id": "Glih6_8QkMCX"
      },
      "source": [
        "##### ```set.discard(x)``` Elimina el elemnto ```x``` del conjunto (si es miembro)"
      ]
    },
    {
      "cell_type": "code",
      "execution_count": null,
      "metadata": {
        "scrolled": true,
        "id": "whHYqdEtkMCX",
        "colab": {
          "base_uri": "https://localhost:8080/"
        },
        "outputId": "2f44495f-87ba-4c02-ee42-8f1a1898372b"
      },
      "outputs": [
        {
          "output_type": "execute_result",
          "data": {
            "text/plain": [
              "{4, 6, 8, 12, 14, 16}"
            ]
          },
          "metadata": {},
          "execution_count": 41
        }
      ],
      "source": [
        "M2c.discard(10)\n",
        "M2c"
      ]
    },
    {
      "cell_type": "markdown",
      "metadata": {
        "id": "eX0Jr06GkMCX"
      },
      "source": [
        "##### ```set1.union(set2)``` Retorna elementos que aparecen en cualquiera de los conjuntos"
      ]
    },
    {
      "cell_type": "code",
      "execution_count": null,
      "metadata": {
        "id": "NKdAf13QkMCb",
        "colab": {
          "base_uri": "https://localhost:8080/"
        },
        "outputId": "2f343225-cb6e-46f4-fa06-d3858b3636bc"
      },
      "outputs": [
        {
          "output_type": "execute_result",
          "data": {
            "text/plain": [
              "{2, 3, 4, 6, 8, 9, 10, 12, 14, 15, 16, 18, 21}"
            ]
          },
          "metadata": {},
          "execution_count": 42
        }
      ],
      "source": [
        "M2.union(M3)"
      ]
    },
    {
      "cell_type": "markdown",
      "metadata": {
        "id": "lfCzCPjekMCb"
      },
      "source": [
        "##### ```set1.intersection(set2)``` Retorna elementos que aparecen en los dos conjuntos"
      ]
    },
    {
      "cell_type": "code",
      "execution_count": null,
      "metadata": {
        "id": "BtN9ex-FkMCc",
        "colab": {
          "base_uri": "https://localhost:8080/"
        },
        "outputId": "3f0d2edf-6df6-45c5-c4b4-3a776067ab0d"
      },
      "outputs": [
        {
          "output_type": "execute_result",
          "data": {
            "text/plain": [
              "{6, 12}"
            ]
          },
          "metadata": {},
          "execution_count": 43
        }
      ],
      "source": [
        "M3.intersection(M2)"
      ]
    },
    {
      "cell_type": "markdown",
      "metadata": {
        "id": "0JOm5gnakMCc"
      },
      "source": [
        "##### ```set1.difference(set2)``` Retorna elementos del conjunto ```set1``` que no estén en ```set2```"
      ]
    },
    {
      "cell_type": "code",
      "execution_count": null,
      "metadata": {
        "id": "_AItCZMukMCc",
        "colab": {
          "base_uri": "https://localhost:8080/"
        },
        "outputId": "34aeebcf-cd39-4796-d44b-7000f5a820c7"
      },
      "outputs": [
        {
          "output_type": "execute_result",
          "data": {
            "text/plain": [
              "{2, 4, 8, 10, 14, 16}"
            ]
          },
          "metadata": {},
          "execution_count": 44
        }
      ],
      "source": [
        "M2.difference(M3)"
      ]
    },
    {
      "cell_type": "markdown",
      "source": [],
      "metadata": {
        "id": "5de0AuXrpTpc"
      }
    },
    {
      "cell_type": "markdown",
      "metadata": {
        "id": "7HMLZx6mkMCd"
      },
      "source": [
        "# Diccionarios\n",
        "* En Python un “diccionario” es un contenedor de datos que puede almacenar múltiples elementos de datos como una lista de pares `llave:valor`.\n",
        "* A diferencia de las listas y tuplas, cuyos datos se obtienen por referencia a su índice, los valores almacenados en un diccionario se obtienen por referencia a su llave.\n",
        "* La llave debe ser única en el diccionario, usualmente se una un texto aunque también puede usarse números."
      ]
    },
    {
      "cell_type": "code",
      "execution_count": null,
      "metadata": {
        "id": "2P95zrLFkMCd"
      },
      "outputs": [],
      "source": [
        "king = {'name': 'John Snow',\n",
        "        'age': 24,\n",
        "        'home': 'Winterfell'}"
      ]
    },
    {
      "cell_type": "code",
      "execution_count": null,
      "metadata": {
        "id": "KeMA6flwkMCd",
        "colab": {
          "base_uri": "https://localhost:8080/"
        },
        "outputId": "c0dbc4b4-16a4-4713-b8b6-7b886202bc32"
      },
      "outputs": [
        {
          "output_type": "execute_result",
          "data": {
            "text/plain": [
              "{'name': 'John Snow', 'age': 24, 'home': 'Winterfell'}"
            ]
          },
          "metadata": {},
          "execution_count": 46
        }
      ],
      "source": [
        "king"
      ]
    },
    {
      "cell_type": "markdown",
      "metadata": {
        "id": "t3eFBcMokMCd"
      },
      "source": [
        "Los diccionarios se pueden crear con la función ```dict```:"
      ]
    },
    {
      "cell_type": "code",
      "execution_count": null,
      "metadata": {
        "id": "HMJTxqtfkMCe"
      },
      "outputs": [],
      "source": [
        "friend = dict(name='Samwell Tarly', age=22)"
      ]
    },
    {
      "cell_type": "code",
      "execution_count": null,
      "metadata": {
        "id": "5Ca96if7kMCe",
        "colab": {
          "base_uri": "https://localhost:8080/"
        },
        "outputId": "818bf892-fc90-4e09-8f2c-483955c161fd"
      },
      "outputs": [
        {
          "output_type": "execute_result",
          "data": {
            "text/plain": [
              "{'name': 'Samwell Tarly', 'age': 22}"
            ]
          },
          "metadata": {},
          "execution_count": 48
        }
      ],
      "source": [
        "friend"
      ]
    },
    {
      "cell_type": "markdown",
      "metadata": {
        "id": "89Lua43VkMCe"
      },
      "source": [
        "Obteniendo datos"
      ]
    },
    {
      "cell_type": "code",
      "execution_count": null,
      "metadata": {
        "id": "GqrH79OMkMCe",
        "colab": {
          "base_uri": "https://localhost:8080/"
        },
        "outputId": "c04a7cbb-e8d5-4ace-90b6-08bd8a547d77"
      },
      "outputs": [
        {
          "output_type": "execute_result",
          "data": {
            "text/plain": [
              "24"
            ]
          },
          "metadata": {},
          "execution_count": 49
        }
      ],
      "source": [
        "king['age']"
      ]
    },
    {
      "cell_type": "markdown",
      "metadata": {
        "id": "k15pdQ7nkMCf"
      },
      "source": [
        "Modificando datos:"
      ]
    },
    {
      "cell_type": "code",
      "execution_count": null,
      "metadata": {
        "id": "erlTblyVkMCf",
        "colab": {
          "base_uri": "https://localhost:8080/"
        },
        "outputId": "7c4ff7c8-3c88-4ba5-e2ca-b4cdf4f389f9"
      },
      "outputs": [
        {
          "output_type": "execute_result",
          "data": {
            "text/plain": [
              "{'name': 'John Snow', 'age': 24, 'home': 'Castle Black'}"
            ]
          },
          "metadata": {},
          "execution_count": 50
        }
      ],
      "source": [
        "king['home'] = 'Castle Black'\n",
        "king"
      ]
    },
    {
      "cell_type": "markdown",
      "metadata": {
        "id": "wAN7FWuBkMCf"
      },
      "source": [
        "Agregando datos:"
      ]
    },
    {
      "cell_type": "code",
      "execution_count": null,
      "metadata": {
        "id": "G20N65z4kMCg"
      },
      "outputs": [],
      "source": [
        "king['lover'] = 'Ygritte'\n",
        "king['knows'] = None"
      ]
    },
    {
      "cell_type": "code",
      "execution_count": null,
      "metadata": {
        "id": "tQxu-mmMkMCg",
        "colab": {
          "base_uri": "https://localhost:8080/"
        },
        "outputId": "68398f8e-2f53-45c4-8030-78fc503243a5"
      },
      "outputs": [
        {
          "output_type": "execute_result",
          "data": {
            "text/plain": [
              "{'name': 'John Snow',\n",
              " 'age': 24,\n",
              " 'home': 'Castle Black',\n",
              " 'lover': 'Ygritte',\n",
              " 'knows': None}"
            ]
          },
          "metadata": {},
          "execution_count": 52
        }
      ],
      "source": [
        "king"
      ]
    },
    {
      "cell_type": "markdown",
      "metadata": {
        "id": "cZcufpR2kMCg"
      },
      "source": [
        "Borrando datos:"
      ]
    },
    {
      "cell_type": "code",
      "execution_count": null,
      "metadata": {
        "id": "AU2m31S6kMCh"
      },
      "outputs": [],
      "source": [
        "del king['lover'] # killed by Olly!"
      ]
    },
    {
      "cell_type": "code",
      "execution_count": null,
      "metadata": {
        "id": "bsFQ4MsnkMCh",
        "colab": {
          "base_uri": "https://localhost:8080/"
        },
        "outputId": "2c6495b9-93fa-4c7a-8af7-f384b9e8ab43"
      },
      "outputs": [
        {
          "output_type": "execute_result",
          "data": {
            "text/plain": [
              "{'name': 'John Snow', 'age': 24, 'home': 'Castle Black', 'knows': None}"
            ]
          },
          "metadata": {},
          "execution_count": 54
        }
      ],
      "source": [
        "king"
      ]
    },
    {
      "cell_type": "markdown",
      "metadata": {
        "id": "eDA1H9RqkMCh"
      },
      "source": [
        "Para almacenar un texto muy largo, podemos encerrarlo en triples comillas dobles:"
      ]
    },
    {
      "cell_type": "code",
      "execution_count": null,
      "metadata": {
        "id": "TohAazh0kMCh"
      },
      "outputs": [],
      "source": [
        "king['lover'] = \"\"\"Daenerys Stormborn of the House Targaryen, First of Her Name,\n",
        "The Unburnt, Queen of the Andals and the First Men, Khaleesi of the Great Grass Sea,\n",
        "Breaker of Chains, and Mother of Dragons\"\"\""
      ]
    },
    {
      "cell_type": "code",
      "execution_count": null,
      "metadata": {
        "id": "mh3wIdHakMCh",
        "colab": {
          "base_uri": "https://localhost:8080/"
        },
        "outputId": "c871fd4b-5ea7-445b-a3a4-d4734669280c"
      },
      "outputs": [
        {
          "output_type": "stream",
          "name": "stdout",
          "text": [
            "Daenerys Stormborn of the House Targaryen, First of Her Name,\n",
            "The Unburnt, Queen of the Andals and the First Men, Khaleesi of the Great Grass Sea,\n",
            "Breaker of Chains, and Mother of Dragons\n"
          ]
        }
      ],
      "source": [
        "print(king['lover'])"
      ]
    },
    {
      "cell_type": "markdown",
      "source": [
        "\n",
        "\n",
        "---\n",
        "\n"
      ],
      "metadata": {
        "id": "sGfX7z8drP_f"
      }
    },
    {
      "cell_type": "markdown",
      "source": [
        "# **Ahora haremos un repaso sobre los comandos If y Else junto con una introducción a interaciones con listas**"
      ],
      "metadata": {
        "id": "t0yw-hm5pcpy"
      }
    },
    {
      "cell_type": "markdown",
      "metadata": {
        "id": "8hOUThSokQGk"
      },
      "source": [
        "* Los programas usualmente se ejecutan corriendo cada instrucción en el orden en que aparecen\n",
        "* Pero en ocasiones, necesitamos ejecutar las  instrucciones de otra manera.\n",
        "* Para ello, usamos instrucciones de control de ejecución:\n",
        "- ```if, elif, else``` ejecuta algunas instrucciones una vez, pero solo si cierta condición es verdadera\n",
        "- ```while``` ejecuta algunas instrucciones varias veces, solo mientras que cierta condición sea verdadera\n",
        "- ```for``` ejecuta algunas instrucciones varias veces, iterando sobre un iterable\n",
        "- ```continue``` brinca a la siguiente iteraciónde un bucle  `while` o `for`\n",
        "- ```break``` detiene la ejecución de un bucle `while` o `for`"
      ]
    },
    {
      "cell_type": "markdown",
      "metadata": {
        "id": "5lGPg4tLkQGl"
      },
      "source": [
        "# Ejecución condicional con `if`\n",
        "\n",
        "* La palabra clave ```if``` evalua una expresión para obtener un valor `True` o `False`.\n",
        "* Esto permite que un programa proceda en diferentes direcciones de acuerdo con el resultado del test.\n",
        "* La expresión evaluada debe ser seguida de dos puntos ```:```, luego las instrucciones que se evaluan si el test es verdadero deben escribirse en líneas separadas e indentadas respecto a la línea que contiene el ```if```.\n",
        "* El tamaño de la indentación no es importante, pero debe ser el mismo en cada línea.\n",
        "* Por tanto, la sintaxis se ve así:\n",
        "```\n",
        "if test-expression:\n",
        "   statements-to-execute-when-test-expression-is-True\n",
        "   statements-to-execute-when-test-expression-is-True\n",
        "```   "
      ]
    },
    {
      "cell_type": "markdown",
      "metadata": {
        "id": "Iy_Iw3ChkQGl"
      },
      "source": [
        "Por ejemplo, para determinar si un número ```m``` es par o impar:"
      ]
    },
    {
      "cell_type": "code",
      "execution_count": null,
      "metadata": {
        "id": "mvCscRLBkQGl",
        "colab": {
          "base_uri": "https://localhost:8080/"
        },
        "outputId": "acade6a3-9b4f-44d8-ea51-a7aa622581ee"
      },
      "outputs": [
        {
          "output_type": "stream",
          "name": "stdout",
          "text": [
            "m es impar\n"
          ]
        }
      ],
      "source": [
        "m = 7\n",
        "if m % 2 == 0:\n",
        "    print('m es par')\n",
        "else:\n",
        "    print('m es impar')"
      ]
    },
    {
      "cell_type": "markdown",
      "metadata": {
        "id": "rVHJwl29kQGm"
      },
      "source": [
        "El test no necesariamente tiene que ser un boolean. El número `0`, el valor `None`, y un texto vacío `''`, lista vacía `[]`, tupla vacía `()` o conjunto vacío `{}`, todos son interpretados como  `False`."
      ]
    },
    {
      "cell_type": "code",
      "execution_count": null,
      "metadata": {
        "scrolled": true,
        "id": "qnAGFpMtkQGm",
        "colab": {
          "base_uri": "https://localhost:8080/"
        },
        "outputId": "c0f43a5d-5416-4eb0-e594-fd7c62185a58"
      },
      "outputs": [
        {
          "output_type": "stream",
          "name": "stdout",
          "text": [
            "m is not divisible by 5\n"
          ]
        }
      ],
      "source": [
        "if m % 5:\n",
        "    print('m is not divisible by 5')\n",
        "else:\n",
        "    print('m is divisible by 5')"
      ]
    },
    {
      "cell_type": "code",
      "execution_count": null,
      "metadata": {
        "id": "3AT5KTazkQGn",
        "colab": {
          "base_uri": "https://localhost:8080/",
          "height": 35
        },
        "outputId": "90330946-9ec9-41dd-ec72-9033d90b3d00"
      },
      "outputs": [
        {
          "output_type": "execute_result",
          "data": {
            "text/plain": [
              "'a.m.'"
            ],
            "application/vnd.google.colaboratory.intrinsic+json": {
              "type": "string"
            }
          },
          "metadata": {},
          "execution_count": 59
        }
      ],
      "source": [
        "horas = 10\n",
        "\n",
        "if horas < 12:\n",
        "    ampm = 'a.m.'\n",
        "else:\n",
        "    ampm = 'p.m.'\n",
        "\n",
        "ampm"
      ]
    },
    {
      "cell_type": "code",
      "execution_count": null,
      "metadata": {
        "id": "lg8DSHJAkQGn",
        "colab": {
          "base_uri": "https://localhost:8080/",
          "height": 35
        },
        "outputId": "022c8950-c197-46d5-a88d-d20c0c949f72"
      },
      "outputs": [
        {
          "output_type": "execute_result",
          "data": {
            "text/plain": [
              "'a.m.'"
            ],
            "application/vnd.google.colaboratory.intrinsic+json": {
              "type": "string"
            }
          },
          "metadata": {},
          "execution_count": 60
        }
      ],
      "source": [
        "ampm1 = 'a.m.' if horas < 12 else 'p.m.'\n",
        "ampm1"
      ]
    },
    {
      "cell_type": "code",
      "source": [
        "# Extra\n",
        "from datetime import datetime\n",
        "import zoneinfo\n",
        "\n",
        "zona = zoneinfo.ZoneInfo('America/Costa_Rica')\n",
        "\n",
        "hora = datetime.now(zona)\n",
        "print(\"El día y hora actual:\", hora)\n",
        "\n",
        "# Solo la hora\n",
        "hora_cr = hora.strftime('%H:%M:%S')\n",
        "print(\"Hora actual:\", hora_cr)\n"
      ],
      "metadata": {
        "colab": {
          "base_uri": "https://localhost:8080/"
        },
        "id": "_Xl0e0Okr-AX",
        "outputId": "56243d70-4031-4038-df60-01d97e2f87da"
      },
      "execution_count": null,
      "outputs": [
        {
          "output_type": "stream",
          "name": "stdout",
          "text": [
            "El día y hora actual: 2024-04-08 16:06:53.326469-06:00\n",
            "Hora actual: 16:06:53\n"
          ]
        }
      ]
    },
    {
      "cell_type": "markdown",
      "source": [
        "Mismo ejercicio de A.M.- P.M. pero con la hora actual"
      ],
      "metadata": {
        "id": "CodYXvmzsaL2"
      }
    },
    {
      "cell_type": "code",
      "source": [
        "hora = hora.hour\n",
        "ampm = 'a.m.' if hora < 12 else 'p.m.'\n",
        "ampm"
      ],
      "metadata": {
        "colab": {
          "base_uri": "https://localhost:8080/",
          "height": 35
        },
        "id": "ON3CN4tFsXFa",
        "outputId": "14cba501-9fe2-4af6-d534-44d1b202a25f"
      },
      "execution_count": null,
      "outputs": [
        {
          "output_type": "execute_result",
          "data": {
            "text/plain": [
              "'p.m.'"
            ],
            "application/vnd.google.colaboratory.intrinsic+json": {
              "type": "string"
            }
          },
          "metadata": {},
          "execution_count": 113
        }
      ]
    },
    {
      "cell_type": "markdown",
      "metadata": {
        "id": "BtYYFyvdkQGn"
      },
      "source": [
        "## Examinando condiciones\n",
        "Algunas veces necesitamos asignar un valor dependiendo de una condición, como así\n",
        "```\n",
        "if testExpression:\n",
        "    x = ifTrueThis\n",
        "else:\n",
        "    x = ifFalseThis\n",
        "```\n",
        "Esto es equivalente a :\n",
        "```\n",
        "x = ifTrueThis if testExpression else ifFalseThis\n",
        "```\n",
        "Por ejemplo"
      ]
    },
    {
      "cell_type": "code",
      "execution_count": null,
      "metadata": {
        "id": "S3Tw6CBDkQGn",
        "colab": {
          "base_uri": "https://localhost:8080/",
          "height": 35
        },
        "outputId": "df41dc9c-628b-4bdc-dc1d-d45def643a3e"
      },
      "outputs": [
        {
          "output_type": "execute_result",
          "data": {
            "text/plain": [
              "'n es impar'"
            ],
            "application/vnd.google.colaboratory.intrinsic+json": {
              "type": "string"
            }
          },
          "metadata": {},
          "execution_count": 116
        }
      ],
      "source": [
        "n = 17\n",
        "z = \"n es impar\" if n % 2 else \"n es par\"\n",
        "z"
      ]
    },
    {
      "cell_type": "markdown",
      "metadata": {
        "id": "vRBbLPi6kQGo"
      },
      "source": [
        "# Iterando `while` true i\n",
        "\n",
        "* Un bucle es una pieza de código que automáticamente se repite.\n",
        "* Una ejecución completa de todas las instrucciones dentro de un bucle se llama una “iteración”.\n",
        "* El tamaño del buche se controla con un test condicional que se ejecuta dentro del bucle.\n",
        "* Mientras que la expresión evaluada sea  ```True``` el bucle continuará –-- hasta que la expresión sea ```False```, punto en el cual el bucle termina.\n",
        "* En programas de Python, la palabra clave ```while``` crea un bucle. Es seguida por la expresion a evaluar y dos puntos ```:```.\n",
        "* Las instrucciones que se deben evaluar cuando el test pasa (sea ```True```) deben seguir abajo en líneas separadas, y cada línea debe estar indentada con el mismo espacio respecto a la línea que tiene el ```while```.\n",
        "* Este bloque de instrucciones debe incluir una instrucción que en algún momento cambie el resultado del test a ```False``` --- de lo contrario el bucle será infinito.\n",
        "* Por tanto, la sintaxis se ve así:\n",
        "\n",
        "```\n",
        "while test-expression :\n",
        "    statements-to-execute-when-test-expression-is-True\n",
        "    statements-to-execute-when-test-expression-is-True\n",
        "```    "
      ]
    },
    {
      "cell_type": "markdown",
      "metadata": {
        "id": "LJvsHVCLkQGo"
      },
      "source": [
        "Por ejemplo, para obtener la serie de Fibonacci hasta 100"
      ]
    },
    {
      "cell_type": "code",
      "execution_count": null,
      "metadata": {
        "id": "0RYQAA4fkQGo",
        "colab": {
          "base_uri": "https://localhost:8080/"
        },
        "outputId": "40909550-c021-479e-c329-bec587cd3293"
      },
      "outputs": [
        {
          "output_type": "stream",
          "name": "stdout",
          "text": [
            "1, 1, 2, 3, 5, 8, 13, 21, 34, 55, 89, "
          ]
        }
      ],
      "source": [
        "a, b = 0, 1\n",
        "\n",
        "while b < 100:\n",
        "    print(b, end=', ')\n",
        "    a, b = b, a + b"
      ]
    },
    {
      "cell_type": "markdown",
      "metadata": {
        "id": "sj6qhH8JkQGp"
      },
      "source": [
        "Un enfoque distinto, pero que incluye el primer elemnto que se pasa de 100"
      ]
    },
    {
      "cell_type": "code",
      "execution_count": null,
      "metadata": {
        "id": "eutDCE6xkQGp",
        "colab": {
          "base_uri": "https://localhost:8080/"
        },
        "outputId": "14bb6584-a2ad-474b-de8f-7aee0bf03fae"
      },
      "outputs": [
        {
          "output_type": "execute_result",
          "data": {
            "text/plain": [
              "[1, 1, 2, 3, 5, 8, 13, 21, 34, 55, 89]"
            ]
          },
          "metadata": {},
          "execution_count": 63
        }
      ],
      "source": [
        "fib = [1, 1]\n",
        "\n",
        "while fib[-1]<100:\n",
        "    fib.append(fib[-2] + fib[-1])\n",
        "else:\n",
        "    fib.pop()\n",
        "\n",
        "\n",
        "fib"
      ]
    },
    {
      "cell_type": "markdown",
      "metadata": {
        "id": "_UlBJh0EkQGp"
      },
      "source": [
        "## La función ```range```\n",
        "Algunas veces necesitamos iterar sobre los enteros. Podemos generarlos con la función ```range```."
      ]
    },
    {
      "cell_type": "markdown",
      "metadata": {
        "id": "g-q48AwrkQGp"
      },
      "source": [
        "Para ahorrar memoria, ```range``` retorna sus elementos uno a la vez, solo cuando se necesita, para evitar usar demasiada memoria. En los ejemplos que siguen convertimos objetos ```range``` en listas para poder imprimir sus elementos."
      ]
    },
    {
      "cell_type": "markdown",
      "metadata": {
        "id": "7J-v2JSAkQGp"
      },
      "source": [
        "`range(n)` retorna enteros de ```0``` a ```n-1```"
      ]
    },
    {
      "cell_type": "code",
      "execution_count": null,
      "metadata": {
        "scrolled": true,
        "id": "B51QUz16kQGq",
        "colab": {
          "base_uri": "https://localhost:8080/"
        },
        "outputId": "37d40b22-c706-4259-e482-49c0429e1bc9"
      },
      "outputs": [
        {
          "output_type": "execute_result",
          "data": {
            "text/plain": [
              "[0, 1, 2, 3, 4, 5]"
            ]
          },
          "metadata": {},
          "execution_count": 64
        }
      ],
      "source": [
        "list(range(6))"
      ]
    },
    {
      "cell_type": "markdown",
      "metadata": {
        "id": "g5BdfkZekQGq"
      },
      "source": [
        "`range(m, n)` retorna enteros de ```m``` a ```n-1```"
      ]
    },
    {
      "cell_type": "code",
      "execution_count": null,
      "metadata": {
        "id": "1v-_y2L_kQGq",
        "colab": {
          "base_uri": "https://localhost:8080/"
        },
        "outputId": "7d8a4b14-60a7-4569-9e43-f71f2072f707"
      },
      "outputs": [
        {
          "output_type": "execute_result",
          "data": {
            "text/plain": [
              "[2, 3, 4, 5, 6, 7]"
            ]
          },
          "metadata": {},
          "execution_count": 65
        }
      ],
      "source": [
        "list(range(2,8))"
      ]
    },
    {
      "cell_type": "markdown",
      "metadata": {
        "id": "vZ4_1dkTkQGr"
      },
      "source": [
        "`range(m, n, s)` retorna enteros de ```m``` a ```n-1```, de ```s``` en ```s```"
      ]
    },
    {
      "cell_type": "code",
      "execution_count": null,
      "metadata": {
        "id": "DWW1vmGGkQGr",
        "colab": {
          "base_uri": "https://localhost:8080/"
        },
        "outputId": "24a03a2a-c835-4a3d-ae9f-6f5f01a17a67"
      },
      "outputs": [
        {
          "output_type": "execute_result",
          "data": {
            "text/plain": [
              "[2, 5, 8]"
            ]
          },
          "metadata": {},
          "execution_count": 66
        }
      ],
      "source": [
        "list(range(2,9,3))"
      ]
    },
    {
      "cell_type": "markdown",
      "metadata": {
        "id": "Zl4j_QMqkQGr"
      },
      "source": [
        "También podemos crear un ```range``` con el orden invertido:"
      ]
    },
    {
      "cell_type": "code",
      "execution_count": null,
      "metadata": {
        "scrolled": true,
        "id": "BC36FywukQGr",
        "colab": {
          "base_uri": "https://localhost:8080/"
        },
        "outputId": "73bf23b6-dbd2-4cda-88f0-d7a2943886f2"
      },
      "outputs": [
        {
          "output_type": "execute_result",
          "data": {
            "text/plain": [
              "[4, 3, 2, 1]"
            ]
          },
          "metadata": {},
          "execution_count": 67
        }
      ],
      "source": [
        "list(range(4, 0,-1))"
      ]
    },
    {
      "cell_type": "markdown",
      "metadata": {
        "id": "WsrcO0M1kQGr"
      },
      "source": [
        "### Comparando la cantidad de memoria necesaria"
      ]
    },
    {
      "cell_type": "code",
      "execution_count": null,
      "metadata": {
        "id": "PUylyuOqkQGs",
        "colab": {
          "base_uri": "https://localhost:8080/"
        },
        "outputId": "5e86449b-88e3-4020-a4d3-8340290db1ad"
      },
      "outputs": [
        {
          "output_type": "execute_result",
          "data": {
            "text/plain": [
              "8000056"
            ]
          },
          "metadata": {},
          "execution_count": 68
        }
      ],
      "source": [
        "from sys import getsizeof\n",
        "\n",
        "getsizeof(list(range(1_000_000)))"
      ]
    },
    {
      "cell_type": "code",
      "execution_count": null,
      "metadata": {
        "id": "nCMRsfjzkQGs",
        "colab": {
          "base_uri": "https://localhost:8080/"
        },
        "outputId": "13f716be-958a-4aa1-8f49-71926c01f669"
      },
      "outputs": [
        {
          "output_type": "execute_result",
          "data": {
            "text/plain": [
              "48"
            ]
          },
          "metadata": {},
          "execution_count": 69
        }
      ],
      "source": [
        "getsizeof(range(1_000_000))"
      ]
    },
    {
      "cell_type": "markdown",
      "metadata": {
        "id": "VrcmNAPLkQGs"
      },
      "source": [
        "# Iterando sobre los elementos de un iterable: `for`\n",
        "\n",
        "En Python la palabra clave ```for``` itera sobre todos los elementos de cualquier iterable que aparezca luego de la palabra clave ```in```.\n",
        "\n",
        "La sintaxis se ve así:\n",
        "\n",
        "```\n",
        "for item in iterable :\n",
        "    statements-to-execute-on-each-iteration\n",
        "    statements-to-execute-on-each-iteration\n",
        "```    \n",
        "\n",
        "Ejemplos de iterables:\n",
        "* rangos\n",
        "* listas, tuplas, conjutos, diccionarios\n",
        "* textos\n",
        "* archivos de texto\n",
        "* arreglos de números"
      ]
    },
    {
      "cell_type": "markdown",
      "metadata": {
        "id": "K3eYJit3kQGs"
      },
      "source": [
        "### Iterando sobre textos"
      ]
    },
    {
      "cell_type": "code",
      "execution_count": null,
      "metadata": {
        "id": "gJ9zP9iTkQGs",
        "colab": {
          "base_uri": "https://localhost:8080/"
        },
        "outputId": "eedb79d9-ff3e-48dd-9657-79a21766c797"
      },
      "outputs": [
        {
          "output_type": "stream",
          "name": "stdout",
          "text": [
            "A\n",
            "B\n",
            "C\n",
            "D\n"
          ]
        }
      ],
      "source": [
        "for letter in 'abcd':\n",
        "    print(letter.upper())"
      ]
    },
    {
      "cell_type": "markdown",
      "metadata": {
        "id": "i8tXg1DQkQGs"
      },
      "source": [
        "### Iterando sobre enteros"
      ]
    },
    {
      "cell_type": "code",
      "execution_count": null,
      "metadata": {
        "id": "R3rH3MfIkQGt",
        "colab": {
          "base_uri": "https://localhost:8080/"
        },
        "outputId": "26cd2040-d14a-499f-be58-9fda5efd7b1c"
      },
      "outputs": [
        {
          "output_type": "stream",
          "name": "stdout",
          "text": [
            "0\n",
            "1\n",
            "4\n",
            "9\n",
            "16\n",
            "25\n"
          ]
        }
      ],
      "source": [
        "for k in range(6):\n",
        "    print(k**2)"
      ]
    },
    {
      "cell_type": "markdown",
      "metadata": {
        "id": "gvjIfdftkQGz"
      },
      "source": [
        "## *List comprehensions*\n",
        "\n",
        "* *List comprehension* es una manera elegante de definir una lista basado en otra lista (un iterable).\n",
        "* Generalmente son más compactas y rápidas que los bucles tradicionales.\n",
        "* No obstante, debemos evitar *list comprenhension* demasiado largas para que el código sea claro.\n",
        "\n"
      ]
    },
    {
      "cell_type": "markdown",
      "metadata": {
        "id": "N0TCU0grkQGz"
      },
      "source": [
        "### Caso más sencillo"
      ]
    },
    {
      "cell_type": "markdown",
      "metadata": {
        "id": "56AOMhkBkQG0"
      },
      "source": [
        "A veces necesitamos hacer una lista de elementos a partir de otro iterable, como con este código\n",
        "\n",
        "```\n",
        "lst = list()\n",
        "for item in iterable:\n",
        "    lst.append(expression)\n",
        "```\n",
        "\n",
        "Esto puede hacer más sucintamente con\n",
        "\n",
        "```\n",
        "lst = [expression for item in iterable]\n",
        "```"
      ]
    },
    {
      "cell_type": "markdown",
      "metadata": {
        "id": "DOoJ8buykQG0"
      },
      "source": [
        "Por ejemplo, para obtener una lista de los cuadrados de los números del 1 al 14:"
      ]
    },
    {
      "cell_type": "code",
      "execution_count": null,
      "metadata": {
        "id": "7XOyhpXTkQG0",
        "colab": {
          "base_uri": "https://localhost:8080/"
        },
        "outputId": "a1ffdf17-6d40-44c5-9674-a0c39a18a07e"
      },
      "outputs": [
        {
          "output_type": "execute_result",
          "data": {
            "text/plain": [
              "[1, 4, 9, 16, 25, 36, 49, 64, 81, 100, 121, 144, 169, 196]"
            ]
          },
          "metadata": {},
          "execution_count": 72
        }
      ],
      "source": [
        "miscuadrados = []\n",
        "\n",
        "for k in range(1,15):\n",
        "    miscuadrados.append(k**2)\n",
        "\n",
        "miscuadrados"
      ]
    },
    {
      "cell_type": "code",
      "execution_count": null,
      "metadata": {
        "id": "jpTgX25BkQG0",
        "colab": {
          "base_uri": "https://localhost:8080/"
        },
        "outputId": "53c8fee0-5562-436e-a183-d301c0984126"
      },
      "outputs": [
        {
          "output_type": "execute_result",
          "data": {
            "text/plain": [
              "[1, 4, 9, 16, 25, 36, 49, 64, 81, 100, 121, 144, 169, 196]"
            ]
          },
          "metadata": {},
          "execution_count": 73
        }
      ],
      "source": [
        "miscuadrados2 = [k**2 for k in range(1,15)]\n",
        "miscuadrados2"
      ]
    },
    {
      "cell_type": "code",
      "execution_count": null,
      "metadata": {
        "id": "EnedzD_qkQG0",
        "colab": {
          "base_uri": "https://localhost:8080/"
        },
        "outputId": "f777708d-b860-43c3-e90f-5f91022b4174"
      },
      "outputs": [
        {
          "output_type": "execute_result",
          "data": {
            "text/plain": [
              "[1, 9, 25, 49, 81, 121, 169]"
            ]
          },
          "metadata": {},
          "execution_count": 74
        }
      ],
      "source": [
        "[k**2 for k in range(1,15) if k%2==1]"
      ]
    },
    {
      "cell_type": "markdown",
      "metadata": {
        "id": "lL6CBQwKkQG0"
      },
      "source": [
        "Para contar las letras en una lista de palabras"
      ]
    },
    {
      "cell_type": "code",
      "execution_count": null,
      "metadata": {
        "id": "Gvz_Qgb-kQG1",
        "colab": {
          "base_uri": "https://localhost:8080/"
        },
        "outputId": "140c1c07-b547-45ae-8e9f-7e3e4cafc0fe"
      },
      "outputs": [
        {
          "output_type": "execute_result",
          "data": {
            "text/plain": [
              "[5, 6, 6, 5, 4]"
            ]
          },
          "metadata": {},
          "execution_count": 75
        }
      ],
      "source": [
        "food = ['apple','banana','carrot','grape','kiwi']\n",
        "\n",
        "[len(item) for item in food]"
      ]
    },
    {
      "cell_type": "markdown",
      "metadata": {
        "id": "P8409nX8kQG1"
      },
      "source": [
        "Por ejemplo, para generar los cuadrados de los números pares menores que 12"
      ]
    },
    {
      "cell_type": "code",
      "execution_count": null,
      "metadata": {
        "scrolled": true,
        "id": "5WboleBvkQG1",
        "colab": {
          "base_uri": "https://localhost:8080/"
        },
        "outputId": "7cd380a4-8784-47e6-9236-416044218f83"
      },
      "outputs": [
        {
          "output_type": "execute_result",
          "data": {
            "text/plain": [
              "[4, 16, 36, 64, 100]"
            ]
          },
          "metadata": {},
          "execution_count": 76
        }
      ],
      "source": [
        "lista1 = list()\n",
        "\n",
        "for k in range(1,12):\n",
        "    if k % 2 == 0:\n",
        "        lista1.append(k**2)\n",
        "\n",
        "lista1"
      ]
    },
    {
      "cell_type": "code",
      "execution_count": null,
      "metadata": {
        "scrolled": true,
        "id": "oXmKBlookQG1",
        "colab": {
          "base_uri": "https://localhost:8080/"
        },
        "outputId": "55f25ee4-92b5-4a6e-c7b8-a08b088756cf"
      },
      "outputs": [
        {
          "output_type": "execute_result",
          "data": {
            "text/plain": [
              "[4, 16, 36, 64, 100]"
            ]
          },
          "metadata": {},
          "execution_count": 77
        }
      ],
      "source": [
        "lista2 = [k**2 for k in range(1, 12) if not k%2]\n",
        "lista2"
      ]
    },
    {
      "cell_type": "markdown",
      "source": [
        "# **Listo! Ahora veremos algunas herramientas de python que utilizan lo que hemos aprendido**\n"
      ],
      "metadata": {
        "id": "bGIIobxywt58"
      }
    },
    {
      "cell_type": "markdown",
      "source": [
        "*   Unir páginas de pdf -> <a href=\"https://colab.research.google.com/github/juanandres-montero/Tools/blob/main/Merge_pdf_pages_in_one.ipynb\"> merge pdf </a>\n",
        "*   Hacer spam -> <a href=\"https://colab.research.google.com/github/juanandres-montero/Tools/blob/main/spam.ipynb\"> spam</a>\n",
        "*   Extraer datos personales del TSE en excel -> <a href=\"https://colab.research.google.com/github/juanandres-montero/DataAnalysis/blob/main/Obtener_datos_del_TSE_por_cedulas.ipynb\">TSE a Excel</a>\n",
        "*   Ver mi árbol familiar -> <a href=\"https://colab.research.google.com/github/juanandres-montero/arbolfamiliar_CostaRica/blob/main/Arbol_familiar_no_web_app.ipynb\">Árbol Familiar de Costa Rica</a>\n",
        "*   convertir libros escaneados a pdf con capacidad de búsqueda -> <a href=\"https://colab.research.google.com/github/juanandres-montero/Tools/blob/main/Convertir_libros_escaneados_con_OCR.ipynb\"> Convertir libros escaneados con OCR </a>\n"
      ],
      "metadata": {
        "id": "fdJPS32Cw-V2"
      }
    }
  ]
}