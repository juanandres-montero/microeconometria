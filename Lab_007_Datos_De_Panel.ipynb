{
  "nbformat": 4,
  "nbformat_minor": 0,
  "metadata": {
    "colab": {
      "provenance": [],
      "authorship_tag": "ABX9TyP3+hzwY+CBfnAFHotJXXAS",
      "include_colab_link": true
    },
    "kernelspec": {
      "name": "python3",
      "display_name": "Python 3"
    },
    "language_info": {
      "name": "python"
    }
  },
  "cells": [
    {
      "cell_type": "markdown",
      "metadata": {
        "id": "view-in-github",
        "colab_type": "text"
      },
      "source": [
        "<a href=\"https://colab.research.google.com/github/juanandres-montero/microeconometria/blob/main/Lab_007_Datos_De_Panel.ipynb\" target=\"_parent\"><img src=\"https://colab.research.google.com/assets/colab-badge.svg\" alt=\"Open In Colab\"/></a>"
      ]
    },
    {
      "cell_type": "markdown",
      "source": [
        "<center>\n",
        "    <img src=\"https://github.com/juanandres-montero/microeconometria/blob/main/logo%20EEC%20grande.png?raw=1\" width=\"396\" height=\"161\"><br>\n",
        "    <b>EC4300 MICROECONOMETRÍA</b><br>\n",
        "    <b>Asist: Juan Andrés Montero Zúñiga</b>\n",
        "<br><br>\n",
        "<b> Laboratorio #7:</b>\n",
        "<br>    \n",
        "<div style=\"font-size:250%;color:white; background-color: #0064b0;\">Datos de Panel</div>\n",
        "<div style=\"font-size:175%;color:white; background-color: #0064b0;\">Efecto fijo, aleatorio y El test de Hausman</div>    \n",
        "\n",
        "</center>\n",
        "<br><br>\n",
        "<p style=\"font-size:120%;\">Este cuaderno toma como fuente la <i>Lecture 5</i> de la clase desarrolla por Phd. Randall Romero sobre Datos de panel. Se toma de\n",
        "    <a href=\"\"> Datos de Panel</a>\n",
        "</p>\n",
        "<i>\n",
        "    Creado: 2024-May-11\n",
        "</i>\n",
        "\n",
        "<hr>"
      ],
      "metadata": {
        "id": "CmScfPFlgSgC"
      }
    },
    {
      "cell_type": "markdown",
      "source": [
        "### 1. Descripción del problema\n",
        "\n",
        "Queremos estimar el efecto de algunas variables (semanas trabajadas, educación y experiencia) sobre los salarios de 595 personas en Estados Unidos, utilizando datos del Panel Study of Income Dynamics (PSID) para el período de 1976 a 1982.\n",
        "\n",
        "### 2. Preparativos\n",
        "\n",
        "Se establecen algunos formatos y variables globales para facilitar el trabajo con los datos y la interpretación de los resultados:\n",
        "\n",
        "use mus208psid , clear\n",
        "\n",
        "set cformat %9.4f\n",
        "set sformat %6.2f\n",
        "set pformat %5.3f\n",
        "\n",
        "global exogenas exp exp2 wks ed\n",
        "global endogena lwage\n",
        "global figure_size xsize(8) ysize(4)"
      ],
      "metadata": {
        "id": "agZpkiNwqPOc"
      }
    },
    {
      "cell_type": "code",
      "source": [
        "use mus208psid , clear\n",
        "\n",
        "set cformat %9.4f\n",
        "set sformat %6.2f\n",
        "set pformat %5.3f\n",
        "\n",
        "global exogenas exp exp2 wks ed\n",
        "global endogena lwage\n",
        "global figure_size xsize(8) ysize(4)"
      ],
      "metadata": {
        "id": "u6sHzVqDqHeb"
      },
      "execution_count": null,
      "outputs": []
    },
    {
      "cell_type": "markdown",
      "source": [
        "\n",
        "### 2.2 Resumen de los datos\n",
        "\n",
        "Se realiza una limpieza y resumen de los datos:\n",
        "\n",
        "- `keep $endogena $exogenas id t`: Conserva únicamente las variables de interés.\n",
        "- `describe`: Proporciona una descripción estadística de las variables.\n",
        "- `summarize`: Proporciona un resumen estadístico de las variables.\n",
        "- `list id t $endogena $exogenas in 1/12, clean`: Lista las primeras 12 observaciones de las variables seleccionadas.\n",
        "- `xtset id t`: Define la estructura de datos en panel, donde `id` es el identificador del individuo y `t` es el tiempo.\n",
        "- `xtdescribe`: Describe la estructura de los datos en panel.\n",
        "- `xtsum`: Proporciona un resumen estadístico de los datos en panel.\n",
        "\n",
        "### 3. Estimación de modelos\n",
        "\n",
        "Se estiman varios modelos de regresión para analizar el efecto de las variables explicativas sobre el salario.\n",
        "\n",
        "#### 3.1 Regresión lineal\n",
        "\n",
        "```stata\n",
        "regress $endogena $exogenas, vce(cluster id) noci\n",
        "estimates store OLS_robust\n",
        "```\n",
        "\n",
        "Se estima una regresión lineal simple y se almacena el resultado bajo `OLS_robust`.\n",
        "\n",
        "#### 3.2 Efectos fijos\n",
        "\n",
        "```stata\n",
        "quietly xtreg $endogena $exogenas, fe noci\n",
        "estimates store FE\n",
        "xtreg $endogena $exogenas, fe vce(robust) noci\n",
        "estimates store FE_robust\n",
        "```\n",
        "\n",
        "Se estima un modelo de efectos fijos y se almacenan los resultados, tanto con errores estándar robustos (`FE_robust`) como sin ellos (`FE`).\n",
        "\n",
        "#### 3.2.1 Least-squares dummy variables\n",
        "\n",
        "```stata\n",
        "regress $endogena $exogenas i.id, vce(cluster id) noci\n",
        "```\n",
        "\n",
        "Se estima un modelo de efectos fijos utilizando variables dummy para cada individuo.\n",
        "\n",
        "#### 3.3 Efectos aleatorios\n",
        "\n",
        "```stata\n",
        "quietly xtreg $endogena $exogenas, re noci\n",
        "estimates store RE\n",
        "xtreg $endogena $exogenas, re vce(robust) noci\n",
        "estimates store RE_robust\n",
        "```\n",
        "\n",
        "Se estima un modelo de efectos aleatorios y se almacenan los resultados, tanto con errores estándar robustos (`RE_robust`) como sin ellos (`RE`).\n",
        "\n",
        "### 3.4 Comparación de resultados\n",
        "\n",
        "```stata\n",
        "estimates table OLS_robust FE FE_robust RE RE_robust, b(%9.4f) se(%9.3f) stats(N r2 r2_o r2_b r2_w sigma_u sigma_e rho)\n",
        "```\n",
        "\n",
        "Se comparan los resultados de los distintos modelos en una tabla.\n",
        "\n",
        "### 3.5 Test de Hausman\n",
        "\n",
        "```stata\n",
        "hausman FE RE, sigmamore\n",
        "```\n",
        "\n",
        "Se realiza el test de Hausman para comparar los modelos de efectos fijos y aleatorios y determinar cuál es más adecuado.\n",
        "### 3.5.1 Interpretación del Test de Hausman\n",
        "\n",
        "- **Hipótesis Nula (Ho)**: No hay diferencia sistemática entre los coeficientes de FE y RE (es decir, los estimadores de RE son consistentes).\n",
        "- **Hipótesis Alternativa (Ha)**: Hay una diferencia sistemática entre los coeficientes de FE y RE (es decir, los estimadores de RE son inconsistentes).\n",
        "\n",
        "### 3.5.2 Resultados del Test de Hausman\n",
        "\n",
        "- **chi2(3) = 1513.02**: Este es el valor del estadístico de prueba.\n",
        "- **Prob>chi2 = 0.0000**: El p-valor asociado con el estadístico de prueba.\n",
        "\n",
        "### 3.5.3 Conclusión\n",
        "\n",
        "Dado que el p-valor es 0.0000, que es menor que cualquier nivel de significancia típico (por ejemplo, 0.05, 0.01), rechazamos la hipótesis nula. Esto indica que existe una diferencia sistemática entre los coeficientes estimados por los modelos de efectos fijos y efectos aleatorios.\n",
        "\n",
        "### 3.6 Modelo con efectos fijos de tiempo\n",
        "\n",
        "```stata\n",
        "xtreg $endogena $exogenas i.t, re\n",
        "estimates store FE_t\n",
        "estimates table FE FE_robust FE_t, b(%9.4f) se(%9.3f) keep($exogenas)\n",
        "```\n",
        "\n",
        "Se estima un modelo de efectos fijos incluyendo efectos fijos de tiempo y se comparan con los modelos previos.\n",
        "\n",
        "Chi-cuadrado de Wald: 7166.37\n",
        "\n",
        "Prob > chi2: 0.0000 (indicando que el modelo es globalmente significativo)\n",
        "\n",
        "Corr(u_i, X): 0 (asumido)\n",
        "\n"
      ],
      "metadata": {
        "id": "NiPdgAbeqrD8"
      }
    }
  ]
}