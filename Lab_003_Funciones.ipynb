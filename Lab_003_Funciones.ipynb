{
  "nbformat": 4,
  "nbformat_minor": 0,
  "metadata": {
    "colab": {
      "provenance": [],
      "authorship_tag": "ABX9TyNjn5wRNdKM8AhtQKvZTWDg",
      "include_colab_link": true
    },
    "kernelspec": {
      "name": "python3",
      "display_name": "Python 3"
    },
    "language_info": {
      "name": "python"
    }
  },
  "cells": [
    {
      "cell_type": "markdown",
      "metadata": {
        "id": "view-in-github",
        "colab_type": "text"
      },
      "source": [
        "<a href=\"https://colab.research.google.com/github/juanandres-montero/microeconometria/blob/main/Lab_003_Funciones.ipynb\" target=\"_parent\"><img src=\"https://colab.research.google.com/assets/colab-badge.svg\" alt=\"Open In Colab\"/></a>"
      ]
    },
    {
      "cell_type": "markdown",
      "source": [
        "<center>\n",
        "    <img src=\"https://github.com/juanandres-montero/microeconometria/blob/main/logo%20EEC%20grande.png?raw=1\" width=\"396\" height=\"161\"><br>\n",
        "    <b>EC4300 MICROECONOMETRÍA</b><br>\n",
        "    <b>Asist: Juan Andrés Montero Zúñiga</b>\n",
        "<br><br>\n",
        "<b> Laboratorio #3:</b>\n",
        "<br>    \n",
        "<div style=\"font-size:250%;color:white; background-color: #0064b0;\">Introducción a Python</div>\n",
        "<div style=\"font-size:175%;color:white; background-color: #0064b0;\"> Funciones</div>    \n",
        "\n",
        "</center>\n",
        "<br><br>\n",
        "<p style=\"font-size:120%;\">Este cuaderno toma como fuente los cuadernos de Jupyter desarrollados por Phd. Randall Romero. Se toma el\n",
        "    <a href=\"https://colab.research.google.com/github/randall-romero/EC4301/blob/master/Laboratorios/01--Introducci%C3%B3n-a-Python/Python-05--Funciones.ipynb\"> Lab de python 05</a>\n",
        "\n",
        "</p>\n",
        "\n",
        "<i> Última actualización del cuaderno original: 2020-Ago-18\n",
        "    <br>\n",
        "    Creado: 2024-Abr-15\n",
        "</i>\n",
        "\n",
        "<hr>"
      ],
      "metadata": {
        "id": "CmScfPFlgSgC"
      }
    },
    {
      "cell_type": "markdown",
      "metadata": {
        "id": "aEueJx9qBEHf"
      },
      "source": [
        "# Funciones\n",
        "\n",
        "Las funciones son objetos que permiten realizar tareas específicas de una manera más ordenada, sin hacer copias innecesarias del código. Esto facilita enormemente el mantenimiento del código."
      ]
    },
    {
      "cell_type": "markdown",
      "metadata": {
        "id": "wFZyvv2lBEHg"
      },
      "source": [
        "## Funciones como objetos"
      ]
    },
    {
      "cell_type": "markdown",
      "metadata": {
        "id": "l9ErFNSOBEHg"
      },
      "source": [
        "En Python las funciones también son **objetos**, que pueden, por ejemplo,\n",
        "* copiarse\n",
        "* ser miembro de una colección (lista, tupla, diccionario)\n",
        "* pasarse como un argumento de otra función"
      ]
    },
    {
      "cell_type": "markdown",
      "metadata": {
        "id": "16lPT22aBEHj"
      },
      "source": [
        "# Definiendo funciones\n",
        "\n",
        "Una función se crea usando la palabra clave `def` (definition) seguida de un nombre de su escogencia y paréntesis `( )`.\n",
        "\n",
        "El programador puede escoger cualquier nombre para una función, excepto las palabras claves de Python y el nombre de funciones integradas existentes.\n",
        "\n",
        "Esta línea debe terminar con un `:`, luego deben seguir las instrucciones que la función ejecuta cuando es llamada, en líneas indentadas.\n",
        "\n",
        "Por tanto, la sintaxis se ve así:\n",
        "```\n",
        "def function-name( ):\n",
        "    statements-to-be-executed\n",
        "    statements-to-be-executed\n",
        "```    "
      ]
    },
    {
      "cell_type": "markdown",
      "metadata": {
        "id": "-5uI8egaBEHk"
      },
      "source": [
        "## Una función sin argumentos"
      ]
    },
    {
      "cell_type": "code",
      "execution_count": null,
      "metadata": {
        "id": "ri6DJuWmBEHk"
      },
      "outputs": [],
      "source": [
        "def hello( ):\n",
        "    print('Hello')\n",
        "    print('Welcome to the UCR!')"
      ]
    },
    {
      "cell_type": "markdown",
      "metadata": {
        "id": "pSaLa6suBEHk"
      },
      "source": [
        "Para correr esta función"
      ]
    },
    {
      "cell_type": "code",
      "execution_count": null,
      "metadata": {
        "id": "eEsADnEcBEHk"
      },
      "outputs": [],
      "source": [
        "hello()"
      ]
    },
    {
      "cell_type": "code",
      "execution_count": null,
      "metadata": {
        "id": "05eH0kYaBEHl"
      },
      "outputs": [],
      "source": [
        "saludar = hello"
      ]
    },
    {
      "cell_type": "code",
      "execution_count": null,
      "metadata": {
        "id": "-UnSosRQBEHl"
      },
      "outputs": [],
      "source": [
        "saludar()"
      ]
    },
    {
      "cell_type": "markdown",
      "metadata": {
        "id": "n_FMO0PWBEHl"
      },
      "source": [
        "## Una función con argumentos\n",
        "\n",
        "Supongamos que deseamos escribir una función para convertir un dato de temperatura de Celsius a Fahrenheit. Para ello, sabemos que:\n",
        "$$F = \\tfrac{9}{5}C + 32 = 1.8C + 32$$"
      ]
    },
    {
      "cell_type": "code",
      "execution_count": null,
      "metadata": {
        "scrolled": true,
        "id": "82xKsNCKBEHl"
      },
      "outputs": [],
      "source": [
        "def c2f(c):\n",
        "    f = 1.8 * c + 32\n",
        "    print(f'{c:.1f}° Celsius equals {f:.1f} Fahrenheit')\n",
        "\n",
        "c2f(15)"
      ]
    },
    {
      "cell_type": "code",
      "execution_count": null,
      "metadata": {
        "id": "qKnNOXYzBEHl"
      },
      "outputs": [],
      "source": [
        "y = c2f(100)"
      ]
    },
    {
      "cell_type": "code",
      "execution_count": null,
      "metadata": {
        "id": "Tge6YOTOBEHm"
      },
      "outputs": [],
      "source": [
        "type(y)"
      ]
    },
    {
      "cell_type": "markdown",
      "metadata": {
        "id": "rry2e501BEHm"
      },
      "source": [
        "## Una función que retorna un valor"
      ]
    },
    {
      "cell_type": "code",
      "execution_count": null,
      "metadata": {
        "id": "1siASiWOBEHm"
      },
      "outputs": [],
      "source": [
        "def c2f(c):\n",
        "    f = 1.8 * c + 32\n",
        "    return f\n",
        "\n",
        "x = c2f(15)\n",
        "print(x)"
      ]
    },
    {
      "cell_type": "markdown",
      "metadata": {
        "id": "p5xVoAwJBEHn"
      },
      "source": [
        "Claramente no sería práctico hacer una función distinta para cada posible número de argumentos. Para ello utilizamos `*args` en la definición de la función. Por ejemplo, para escribir una operación de suma:"
      ]
    },
    {
      "cell_type": "code",
      "execution_count": null,
      "metadata": {
        "id": "jDAwtnYhBEHn"
      },
      "outputs": [],
      "source": [
        "def imprimir_suma(*args):\n",
        "    numeros = (str(x) for x in args)\n",
        "    sumando = ' + '.join(numeros)\n",
        "    resultado = sum(args)\n",
        "    print(sumando, \" = \", resultado)\n",
        "    print('args = ', args)\n",
        "    print('*args = ', *args)"
      ]
    },
    {
      "cell_type": "code",
      "execution_count": null,
      "metadata": {
        "id": "Vl2zr3piBEHn"
      },
      "outputs": [],
      "source": [
        "imprimir_suma(3,2,5)"
      ]
    },
    {
      "cell_type": "markdown",
      "metadata": {
        "id": "-8JV8xeSBEHo"
      },
      "source": [
        "Vemos que a lo interno de la función, `args` es una tupla, mientras que `*args` son los elementos individuales de esa tupla."
      ]
    },
    {
      "cell_type": "markdown",
      "metadata": {
        "id": "Br9-PeZcBEHo"
      },
      "source": [
        "## Una función con un número indefinido de parámetros de palabra clave\n",
        "\n",
        "Supongamos que queremos escribir una función que dependa de un número indefinido de parámetros de palabras clave (usualmente para especificar opciones). Para ello, agrupamos esos parámetros en la variable `**kwargs`"
      ]
    },
    {
      "cell_type": "code",
      "execution_count": null,
      "metadata": {
        "id": "e35ONAWxBEHo"
      },
      "outputs": [],
      "source": [
        "def imprimir_opciones(**kwargs):\n",
        "    for parametro, valor in kwargs.items():\n",
        "        print(parametro, \" = \", valor)\n",
        "    print('kwargs = ', kwargs)"
      ]
    },
    {
      "cell_type": "code",
      "execution_count": null,
      "metadata": {
        "id": "QFPDK2CZBEHr"
      },
      "outputs": [],
      "source": [
        "imprimir_opciones(color='rojo', modelo='2018', marca='Honda', estilo='SUV')"
      ]
    },
    {
      "cell_type": "markdown",
      "metadata": {
        "id": "AjkGqX9HBEHs"
      },
      "source": [
        "Podemos cambiar estos valores repetidamente así:"
      ]
    },
    {
      "cell_type": "code",
      "execution_count": null,
      "metadata": {
        "id": "raNWQ13QBEHs"
      },
      "outputs": [],
      "source": [
        "OPCIONES = {'sep': ' /*\\ ', 'end': '\\n\\n'}"
      ]
    },
    {
      "cell_type": "code",
      "execution_count": null,
      "metadata": {
        "id": "Hs4iWsnIBEHs"
      },
      "outputs": [],
      "source": [
        "print(1,2,3)\n",
        "print(4,5,6)"
      ]
    },
    {
      "cell_type": "code",
      "execution_count": null,
      "metadata": {
        "id": "DTmLNl16BEHs"
      },
      "outputs": [],
      "source": [
        "print(1,2,3, **OPCIONES)\n",
        "print(4,5,6, **OPCIONES)"
      ]
    },
    {
      "cell_type": "code",
      "execution_count": null,
      "metadata": {
        "id": "ePpQEi5GBEHs"
      },
      "outputs": [],
      "source": [
        "print(3,2,5, OPCIONES)"
      ]
    },
    {
      "cell_type": "markdown",
      "metadata": {
        "id": "1_jTUWJzBEHt"
      },
      "source": [
        "# Documentando una función\n",
        "\n",
        "¡Es muy importante documentar lo que hace su código!"
      ]
    },
    {
      "cell_type": "code",
      "execution_count": null,
      "metadata": {
        "id": "2eKw4BLBBEHu"
      },
      "outputs": [],
      "source": [
        "def c2f(c, show=False):\n",
        "    \"\"\"\n",
        "    Converts temperature data from Celsius degrees to Fahrenheit degrees\n",
        "\n",
        "    Input:\n",
        "      c: a scalar number, degrees in Celsius\n",
        "      show: a boolean, whether to print the outcome\n",
        "    Output:\n",
        "      a scalar number, degrees in Fahrenheit\n",
        "    Example:\n",
        "      c2f(0)  # returns 32.0\n",
        "    \"\"\"\n",
        "    f = 1.8 * c + 32\n",
        "    if show:\n",
        "        print(f'{c:.1f}° Celsius = {f:.1f} Fahrenheit')\n",
        "    return f\n",
        "\n",
        "z = c2f(15)"
      ]
    },
    {
      "cell_type": "code",
      "execution_count": null,
      "metadata": {
        "inputHidden": false,
        "outputHidden": false,
        "scrolled": true,
        "id": "16UOOiNaBEHu"
      },
      "outputs": [],
      "source": [
        "help(c2f)"
      ]
    },
    {
      "cell_type": "code",
      "execution_count": null,
      "metadata": {
        "id": "U_IMRnEfBEHu"
      },
      "outputs": [],
      "source": [
        "?c2f"
      ]
    },
    {
      "cell_type": "markdown",
      "metadata": {
        "id": "jIaesVXNBEHu"
      },
      "source": [
        "# Entendiendo el ámbito de una variable"
      ]
    },
    {
      "cell_type": "markdown",
      "metadata": {
        "id": "3WV3Nn5YBEHv"
      },
      "source": [
        "Cuando una función encuentra una variable dentro de su definición que no hay sido definida dentro de la función, buscará su definición en el ambiente donde la función fue definida."
      ]
    },
    {
      "cell_type": "code",
      "execution_count": null,
      "metadata": {
        "id": "DtC-73TtBEHv"
      },
      "outputs": [],
      "source": [
        "pi = 3.1415\n",
        "\n",
        "def area(r):\n",
        "    A = pi * r**2\n",
        "    return A"
      ]
    },
    {
      "cell_type": "code",
      "execution_count": null,
      "metadata": {
        "id": "rCI6JYnbBEHv"
      },
      "outputs": [],
      "source": [
        "pi"
      ]
    },
    {
      "cell_type": "code",
      "execution_count": null,
      "metadata": {
        "id": "KLMI8-rsBEHv"
      },
      "outputs": [],
      "source": [
        "print(area(10))"
      ]
    },
    {
      "cell_type": "code",
      "execution_count": null,
      "metadata": {
        "id": "pw9WFyYaBEHv"
      },
      "outputs": [],
      "source": [
        "print(A)"
      ]
    },
    {
      "cell_type": "code",
      "execution_count": null,
      "metadata": {
        "id": "vegziE_BBEHv"
      },
      "outputs": [],
      "source": [
        "pi = 9\n",
        "area(10)"
      ]
    }
  ]
}