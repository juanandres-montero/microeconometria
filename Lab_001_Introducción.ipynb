{
  "nbformat": 4,
  "nbformat_minor": 0,
  "metadata": {
    "colab": {
      "provenance": [],
      "authorship_tag": "ABX9TyPYnuASoHV+SuVx3Ws8/vke",
      "include_colab_link": true
    },
    "kernelspec": {
      "name": "python3",
      "display_name": "Python 3"
    },
    "language_info": {
      "name": "python"
    }
  },
  "cells": [
    {
      "cell_type": "markdown",
      "metadata": {
        "id": "view-in-github",
        "colab_type": "text"
      },
      "source": [
        "<a href=\"https://colab.research.google.com/github/juanandres-montero/microeconometria/blob/main/Lab_001_Introducci%C3%B3n.ipynb\" target=\"_parent\"><img src=\"https://colab.research.google.com/assets/colab-badge.svg\" alt=\"Open In Colab\"/></a>"
      ]
    },
    {
      "cell_type": "markdown",
      "source": [
        "# Bienvenidos al curso EC-4300!\n",
        "\n",
        "╭━╮╭━╮╱╱╱╱╱╱╱╱╱╱╱╱╱╱╱╱╱╱╱╱╱╱╱╱╱╱╱╱╱╭╮\n",
        "┃┃╰╯┃┃╱╱╱╱╱╱╱╱╱╱╱╱╱╱╱╱╱╱╱╱╱╱╱╱╱╱╱╱╭╯╰╮\n",
        "┃╭╮╭╮┣┳━━┳━┳━━┳━━┳━━┳━━┳━╮╭━━┳╮╭┳━┻╮╭╋━┳┳━━╮\n",
        "┃┃┃┃┃┣┫╭━┫╭┫╭╮┃┃━┫╭━┫╭╮┃╭╮┫╭╮┃╰╯┃┃━┫┃┃╭╋┫╭╮┃\n",
        "┃┃┃┃┃┃┃╰━┫┃┃╰╯┃┃━┫╰━┫╰╯┃┃┃┃╰╯┃┃┃┃┃━┫╰┫┃┃┃╭╮┃\n",
        "╰╯╰╯╰┻┻━━┻╯╰━━┻━━┻━━┻━━┻╯╰┻━━┻┻┻┻━━┻━┻╯╰┻╯╰╯\n",
        "\n",
        "Asist: <a href=\"https://juanandres-montero.github.io/\">Juan Andrés Montero</a>\n",
        "\n",
        "## Laboratorio 1\n",
        "\n",
        "En esta clase se da la introducción al curso, desarrollo el objetivo de los laboratorios y se realiza un repaso de python de lo que se aprendió en el curso de computación.\n",
        "\n",
        "<a href=\"https://colab.research.google.com/github/randall-romero/EC4301/blob/master/Laboratorios/01--Introducci%C3%B3n-a-Python/Python-01--Para%20qu%C3%A9%20aprender%20Python.ipynb\"><Parte 1></a>\n",
        "\n",
        "<a href=\"https://colab.research.google.com/github/randall-romero/EC4301/blob/master/Laboratorios/01--Introducci%C3%B3n-a-Python/Python-02--Variables%20y%20operaciones%20b%C3%A1sicas.ipynb\"><Parte 2></a>\n",
        "\n",
        "<a href=\"https://colab.research.google.com/github/randall-romero/EC4301/blob/master/Laboratorios/01--Introducci%C3%B3n-a-Python/Python-03--Colecciones.ipynb#scrollTo=kLvIiXEKWskL\"><Parte 3></a> (Hasta Tuplas)\n"
      ],
      "metadata": {
        "id": "H3w28M0dSW2y"
      }
    }
  ]
}